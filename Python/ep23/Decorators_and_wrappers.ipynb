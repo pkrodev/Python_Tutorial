{
  "nbformat": 4,
  "nbformat_minor": 0,
  "metadata": {
    "colab": {
      "provenance": [],
      "authorship_tag": "ABX9TyNTAERiKbbkpNkiT70Tfz5c",
      "include_colab_link": true
    },
    "kernelspec": {
      "name": "python3",
      "display_name": "Python 3"
    },
    "language_info": {
      "name": "python"
    }
  },
  "cells": [
    {
      "cell_type": "markdown",
      "metadata": {
        "id": "view-in-github",
        "colab_type": "text"
      },
      "source": [
        "<a href=\"https://colab.research.google.com/github/pkrodev/Python_Tutorial/blob/main/Python/ep23/Decorators_and_wrappers.ipynb\" target=\"_parent\"><img src=\"https://colab.research.google.com/assets/colab-badge.svg\" alt=\"Open In Colab\"/></a>"
      ]
    },
    {
      "cell_type": "code",
      "execution_count": 37,
      "metadata": {
        "colab": {
          "base_uri": "https://localhost:8080/"
        },
        "id": "kWwJvdBuOMc4",
        "outputId": "2ccdfda1-2776-4366-fc23-87f250988c35"
      },
      "outputs": [
        {
          "output_type": "stream",
          "name": "stdout",
          "text": [
            "Episode 23\n"
          ]
        }
      ],
      "source": [
        "print(\"Episode 23\")"
      ]
    },
    {
      "cell_type": "code",
      "source": [
        "def decorator(func):\n",
        "  def wrapper():\n",
        "    print(\"-----------\")\n",
        "    func()\n",
        "    print(\"-----------\")\n",
        "  return wrapper"
      ],
      "metadata": {
        "id": "lJvuOeH8ORun"
      },
      "execution_count": 38,
      "outputs": []
    },
    {
      "cell_type": "code",
      "source": [
        "@decorator\n",
        "def hello():\n",
        "  print(\"Hello World\")"
      ],
      "metadata": {
        "id": "QBmjFFPTO3eg"
      },
      "execution_count": 39,
      "outputs": []
    },
    {
      "cell_type": "code",
      "source": [
        "hello()"
      ],
      "metadata": {
        "colab": {
          "base_uri": "https://localhost:8080/"
        },
        "id": "NgbU1WvJQofq",
        "outputId": "5b3d94ce-5e7d-4168-c3aa-f9dca0fc59f3"
      },
      "execution_count": 41,
      "outputs": [
        {
          "output_type": "stream",
          "name": "stdout",
          "text": [
            "-----------\n",
            "Hello World\n",
            "-----------\n"
          ]
        }
      ]
    },
    {
      "cell_type": "code",
      "source": [
        "hello = decorator(hello) #if you run this cell few times decorator will execute several times\n",
        "hello()"
      ],
      "metadata": {
        "colab": {
          "base_uri": "https://localhost:8080/"
        },
        "id": "wZA-Goh0RLSC",
        "outputId": "83266bae-b6d7-4208-8bbd-8d13a2611d65"
      },
      "execution_count": 44,
      "outputs": [
        {
          "output_type": "stream",
          "name": "stdout",
          "text": [
            "-----------\n",
            "-----------\n",
            "-----------\n",
            "-----------\n",
            "Hello World\n",
            "-----------\n",
            "-----------\n",
            "-----------\n",
            "-----------\n"
          ]
        }
      ]
    }
  ]
}