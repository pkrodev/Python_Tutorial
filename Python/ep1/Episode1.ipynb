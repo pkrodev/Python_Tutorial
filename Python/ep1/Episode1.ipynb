{
  "nbformat": 4,
  "nbformat_minor": 0,
  "metadata": {
    "colab": {
      "provenance": [],
      "gpuType": "T4",
      "authorship_tag": "ABX9TyMAXPVWhFeyIw8xSdE3ghe0",
      "include_colab_link": true
    },
    "kernelspec": {
      "name": "python3",
      "display_name": "Python 3"
    },
    "language_info": {
      "name": "python"
    },
    "accelerator": "GPU"
  },
  "cells": [
    {
      "cell_type": "markdown",
      "metadata": {
        "id": "view-in-github",
        "colab_type": "text"
      },
      "source": [
        "<a href=\"https://colab.research.google.com/github/pkrodev/Python_Tutorial/blob/main/Python/ep1/Episode1.ipynb\" target=\"_parent\"><img src=\"https://colab.research.google.com/assets/colab-badge.svg\" alt=\"Open In Colab\"/></a>"
      ]
    },
    {
      "cell_type": "code",
      "source": [
        "print(\"Hello World\")"
      ],
      "metadata": {
        "colab": {
          "base_uri": "https://localhost:8080/"
        },
        "id": "z6Ltt6AKHXxD",
        "outputId": "765dc871-1778-42c5-8ef5-0f2013a34c24"
      },
      "execution_count": 14,
      "outputs": [
        {
          "output_type": "stream",
          "name": "stdout",
          "text": [
            "Hello World\n"
          ]
        }
      ]
    },
    {
      "cell_type": "code",
      "source": [
        "input(\"Write something: \\n\" *5)"
      ],
      "metadata": {
        "id": "yIkQEl7G42cs",
        "outputId": "895b4913-9d74-40cc-eb11-3673304cf7a2",
        "colab": {
          "base_uri": "https://localhost:8080/",
          "height": 142
        }
      },
      "execution_count": 13,
      "outputs": [
        {
          "name": "stdout",
          "output_type": "stream",
          "text": [
            "Write something: \n",
            "Write something: \n",
            "Write something: \n",
            "Write something: \n",
            "Write something: \n",
            "x\n"
          ]
        },
        {
          "output_type": "execute_result",
          "data": {
            "text/plain": [
              "'x'"
            ],
            "application/vnd.google.colaboratory.intrinsic+json": {
              "type": "string"
            }
          },
          "metadata": {},
          "execution_count": 13
        }
      ]
    },
    {
      "cell_type": "code",
      "source": [
        "x = input(\"Write something: \")\n",
        "print ((x + \"\\n\") *5)"
      ],
      "metadata": {
        "id": "GM6RQ60k7oWB",
        "outputId": "ff1cdaa7-bbae-411e-f63f-bf676850e710",
        "colab": {
          "base_uri": "https://localhost:8080/"
        }
      },
      "execution_count": 15,
      "outputs": [
        {
          "output_type": "stream",
          "name": "stdout",
          "text": [
            "Write something: d\n",
            "d\n",
            "d\n",
            "d\n",
            "d\n",
            "d\n",
            "\n"
          ]
        }
      ]
    },
    {
      "cell_type": "code",
      "source": [
        "print('Hello \\n' * 5)"
      ],
      "metadata": {
        "id": "4csVZhS55Yek",
        "outputId": "ceaedfbb-783e-4db3-b370-cd1eee328db5",
        "colab": {
          "base_uri": "https://localhost:8080/"
        }
      },
      "execution_count": 16,
      "outputs": [
        {
          "output_type": "stream",
          "name": "stdout",
          "text": [
            "Hello \n",
            "Hello \n",
            "Hello \n",
            "Hello \n",
            "Hello \n",
            "\n"
          ]
        }
      ]
    }
  ]
}