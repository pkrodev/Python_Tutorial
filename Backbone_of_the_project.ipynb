{
  "nbformat": 4,
  "nbformat_minor": 0,
  "metadata": {
    "colab": {
      "provenance": [],
      "mount_file_id": "15nNFF0x_LDmes7o6wvtIwQwUOvqRRnVO",
      "authorship_tag": "ABX9TyNlcwcvPJ5VRCmgC5JBGhLb",
      "include_colab_link": true
    },
    "kernelspec": {
      "name": "python3",
      "display_name": "Python 3"
    },
    "language_info": {
      "name": "python"
    }
  },
  "cells": [
    {
      "cell_type": "markdown",
      "metadata": {
        "id": "view-in-github",
        "colab_type": "text"
      },
      "source": [
        "<a href=\"https://colab.research.google.com/github/pkrodev/Python_Tutorial/blob/main/Backbone_of_the_project.ipynb\" target=\"_parent\"><img src=\"https://colab.research.google.com/assets/colab-badge.svg\" alt=\"Open In Colab\"/></a>"
      ]
    },
    {
      "cell_type": "code",
      "execution_count": null,
      "metadata": {
        "colab": {
          "base_uri": "https://localhost:8080/"
        },
        "id": "YbHWFFwrVG-p",
        "outputId": "e5d43ca3-86c5-4c0e-889c-25935062878f"
      },
      "outputs": [
        {
          "output_type": "stream",
          "name": "stdout",
          "text": [
            "Cloning into 'Python_Tutorial'...\n",
            "remote: Enumerating objects: 5, done.\u001b[K\n",
            "remote: Counting objects: 100% (5/5), done.\u001b[K\n",
            "remote: Compressing objects: 100% (4/4), done.\u001b[K\n",
            "remote: Total 5 (delta 0), reused 0 (delta 0), pack-reused 0\u001b[K\n",
            "Receiving objects: 100% (5/5), 14.25 KiB | 14.25 MiB/s, done.\n"
          ]
        }
      ],
      "source": [
        "!git clone https://github.com/pkrodev/Python_Tutorial.git"
      ]
    },
    {
      "cell_type": "code",
      "source": [
        "%cd drive/MyDrive/"
      ],
      "metadata": {
        "colab": {
          "base_uri": "https://localhost:8080/"
        },
        "id": "Fo0oXS3Ddn7D",
        "outputId": "b2f7e706-d61e-4b5a-c1a5-dde587327866"
      },
      "execution_count": null,
      "outputs": [
        {
          "output_type": "stream",
          "name": "stdout",
          "text": [
            "/content/drive/MyDrive\n"
          ]
        }
      ]
    },
    {
      "cell_type": "code",
      "source": [
        "!mkdir"
      ],
      "metadata": {
        "id": "GfyUZ4bseMvs"
      },
      "execution_count": null,
      "outputs": []
    },
    {
      "cell_type": "code",
      "source": [
        "!cd Python"
      ],
      "metadata": {
        "id": "9SrXaui4fvpx"
      },
      "execution_count": null,
      "outputs": []
    },
    {
      "cell_type": "code",
      "source": [
        "!ls"
      ],
      "metadata": {
        "colab": {
          "base_uri": "https://localhost:8080/"
        },
        "id": "bJM1OnV6f_DP",
        "outputId": "5a9c192a-98dc-45d9-fb47-9589e4990a5f"
      },
      "execution_count": null,
      "outputs": [
        {
          "output_type": "stream",
          "name": "stdout",
          "text": [
            "'Colab Notebooks'   Python   tests_git\n"
          ]
        }
      ]
    },
    {
      "cell_type": "code",
      "source": [
        "%cd Python/"
      ],
      "metadata": {
        "colab": {
          "base_uri": "https://localhost:8080/"
        },
        "id": "9Ljy9YWigBkm",
        "outputId": "07394dd4-745d-4a6f-aa46-5f25e0a709d1"
      },
      "execution_count": null,
      "outputs": [
        {
          "output_type": "stream",
          "name": "stdout",
          "text": [
            "/content/drive/MyDrive/Python\n"
          ]
        }
      ]
    },
    {
      "cell_type": "code",
      "source": [
        "!ls"
      ],
      "metadata": {
        "id": "UxhjbTtrgFM2"
      },
      "execution_count": null,
      "outputs": []
    },
    {
      "cell_type": "code",
      "source": [
        "!mkdir"
      ],
      "metadata": {
        "id": "zDiQ_a8KgKau"
      },
      "execution_count": null,
      "outputs": []
    },
    {
      "cell_type": "code",
      "source": [
        "!ls"
      ],
      "metadata": {
        "colab": {
          "base_uri": "https://localhost:8080/"
        },
        "id": "YwVXkzF0gYzP",
        "outputId": "bedf4f6a-2e65-4d72-f03f-1508610d31fd"
      },
      "execution_count": 9,
      "outputs": [
        {
          "output_type": "stream",
          "name": "stdout",
          "text": [
            "ep1\n"
          ]
        }
      ]
    },
    {
      "cell_type": "code",
      "source": [
        "!mkdir ep2 ep3"
      ],
      "metadata": {
        "colab": {
          "base_uri": "https://localhost:8080/"
        },
        "id": "g9XMwD9NhNIE",
        "outputId": "1d5cfb9a-91d2-4b5b-efb6-d3ad3c45edf2"
      },
      "execution_count": 12,
      "outputs": [
        {
          "output_type": "stream",
          "name": "stdout",
          "text": [
            "mkdir: cannot create directory ‘ep2’: File exists\n",
            "mkdir: cannot create directory ‘ep3’: File exists\n"
          ]
        }
      ]
    },
    {
      "cell_type": "code",
      "source": [
        "!ls"
      ],
      "metadata": {
        "colab": {
          "base_uri": "https://localhost:8080/"
        },
        "id": "hVlus-IuhaM9",
        "outputId": "a32d3c61-e7e9-4ed5-a684-3f1c0dfc291b"
      },
      "execution_count": 11,
      "outputs": [
        {
          "output_type": "stream",
          "name": "stdout",
          "text": [
            "ep1  ep2  ep3\n"
          ]
        }
      ]
    },
    {
      "cell_type": "code",
      "source": [
        "!mkdir ep5 ep6 ep7 ep8 ep9 ep10 ep11 ep12 ep13 ep14 ep15 ep16 ep17 ep18 ep19 ep20 ep21 ep22 ep23 ep24 ep25 ep26 ep27 ep28 ep29 ep30 ep31 ep32 ep33 ep34 ep35 ep36 ep37 ep38"
      ],
      "metadata": {
        "id": "x5StiHv-hbxr"
      },
      "execution_count": 14,
      "outputs": []
    },
    {
      "cell_type": "code",
      "source": [
        "!ls"
      ],
      "metadata": {
        "colab": {
          "base_uri": "https://localhost:8080/"
        },
        "id": "Goe9f5xyi2E1",
        "outputId": "73693661-aa44-4998-ab5b-e269d4b55fa6"
      },
      "execution_count": 15,
      "outputs": [
        {
          "output_type": "stream",
          "name": "stdout",
          "text": [
            "ep1   ep12  ep15  ep18\tep20  ep23  ep26  ep29\tep31  ep34  ep37  ep5  ep8\n",
            "ep10  ep13  ep16  ep19\tep21  ep24  ep27  ep3\tep32  ep35  ep38  ep6  ep9\n",
            "ep11  ep14  ep17  ep2\tep22  ep25  ep28  ep30\tep33  ep36  ep4   ep7\n"
          ]
        }
      ]
    },
    {
      "cell_type": "code",
      "source": [],
      "metadata": {
        "id": "23RFDBK2jCzY"
      },
      "execution_count": null,
      "outputs": []
    }
  ]
}