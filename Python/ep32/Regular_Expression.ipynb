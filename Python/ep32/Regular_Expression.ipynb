{
  "nbformat": 4,
  "nbformat_minor": 0,
  "metadata": {
    "colab": {
      "provenance": [],
      "authorship_tag": "ABX9TyNYgl3PI6zqFek2PW/fyyBp",
      "include_colab_link": true
    },
    "kernelspec": {
      "name": "python3",
      "display_name": "Python 3"
    },
    "language_info": {
      "name": "python"
    }
  },
  "cells": [
    {
      "cell_type": "markdown",
      "metadata": {
        "id": "view-in-github",
        "colab_type": "text"
      },
      "source": [
        "<a href=\"https://colab.research.google.com/github/pkrodev/Python_Tutorial/blob/main/Python/ep32/Regular_Expression.ipynb\" target=\"_parent\"><img src=\"https://colab.research.google.com/assets/colab-badge.svg\" alt=\"Open In Colab\"/></a>"
      ]
    },
    {
      "cell_type": "code",
      "execution_count": 1,
      "metadata": {
        "colab": {
          "base_uri": "https://localhost:8080/"
        },
        "id": "582q0f_8cg1c",
        "outputId": "b5cbc616-dfa6-45ce-950b-83d5653feefa"
      },
      "outputs": [
        {
          "output_type": "stream",
          "name": "stdout",
          "text": [
            "Episode 32\n"
          ]
        }
      ],
      "source": [
        "print(\"Episode 32\")"
      ]
    },
    {
      "cell_type": "code",
      "source": [
        "import re"
      ],
      "metadata": {
        "id": "68VlGYC0cwGj"
      },
      "execution_count": 2,
      "outputs": []
    },
    {
      "cell_type": "code",
      "source": [
        "pattern1= r\"banana\""
      ],
      "metadata": {
        "id": "zYzAFLG4cyei"
      },
      "execution_count": 3,
      "outputs": []
    },
    {
      "cell_type": "code",
      "source": [
        "text1= r\"pearbananaapple\"\n",
        "text2=r\"bananapearapple\"\n",
        "text3=r\"bananapearapplebanana\""
      ],
      "metadata": {
        "id": "U6C_90Dtc-is"
      },
      "execution_count": 20,
      "outputs": []
    },
    {
      "cell_type": "code",
      "source": [
        "print(re.match(pattern1,text1))"
      ],
      "metadata": {
        "colab": {
          "base_uri": "https://localhost:8080/"
        },
        "id": "b7l98aEBdHoh",
        "outputId": "236dd9a2-52c0-47ec-8c5c-b010d8eebe9b"
      },
      "execution_count": 5,
      "outputs": [
        {
          "output_type": "stream",
          "name": "stdout",
          "text": [
            "None\n"
          ]
        }
      ]
    },
    {
      "cell_type": "code",
      "source": [
        "if re.match(pattern1,text1): #if text2 \"It fits\"\n",
        "  print(\"It fits\")\n",
        "else:\n",
        "  print(\"It doesn't fit\")"
      ],
      "metadata": {
        "colab": {
          "base_uri": "https://localhost:8080/"
        },
        "id": "o3JmL_R3do6S",
        "outputId": "2aee99bb-7b34-4a11-9b55-b8242d58f54e"
      },
      "execution_count": 13,
      "outputs": [
        {
          "output_type": "stream",
          "name": "stdout",
          "text": [
            "It doesn't fit\n"
          ]
        }
      ]
    },
    {
      "cell_type": "code",
      "source": [
        "if re.match(r\".*\"+pattern1+r\".*\",text1):\n",
        "  print(\"It fits\")\n",
        "else:\n",
        "  print(\"It doesn't fit\")"
      ],
      "metadata": {
        "colab": {
          "base_uri": "https://localhost:8080/"
        },
        "id": "TKY_79QedpII",
        "outputId": "e6d33400-f650-44eb-9689-00820ae294d3"
      },
      "execution_count": 12,
      "outputs": [
        {
          "output_type": "stream",
          "name": "stdout",
          "text": [
            "It fits\n"
          ]
        }
      ]
    },
    {
      "cell_type": "code",
      "source": [
        "if re.search(pattern1,text1):\n",
        "  print(\"It fits\")\n",
        "else:\n",
        "  print(\"It doesn't fit\")"
      ],
      "metadata": {
        "colab": {
          "base_uri": "https://localhost:8080/"
        },
        "id": "Wp6t8PuaesfF",
        "outputId": "362b7dbf-774a-409e-c2e9-a42adab09a99"
      },
      "execution_count": 14,
      "outputs": [
        {
          "output_type": "stream",
          "name": "stdout",
          "text": [
            "It fits\n"
          ]
        }
      ]
    },
    {
      "cell_type": "code",
      "source": [
        "print(re.findall(pattern1,text1))"
      ],
      "metadata": {
        "colab": {
          "base_uri": "https://localhost:8080/"
        },
        "id": "qFMxvlvbe2RE",
        "outputId": "b4ebdd63-e5b6-4cc9-a2de-8fec2ff00212"
      },
      "execution_count": 15,
      "outputs": [
        {
          "output_type": "stream",
          "name": "stdout",
          "text": [
            "['banana']\n"
          ]
        }
      ]
    },
    {
      "cell_type": "code",
      "source": [
        "matching1=re.search(pattern1, text1)"
      ],
      "metadata": {
        "id": "DfKfJaKafM2h"
      },
      "execution_count": 16,
      "outputs": []
    },
    {
      "cell_type": "code",
      "source": [
        "if matching1:\n",
        "  print(matching1.group())\n",
        "  print(matching1.start())\n",
        "  print(matching1.end())\n",
        "  print(matching1.span())"
      ],
      "metadata": {
        "colab": {
          "base_uri": "https://localhost:8080/"
        },
        "id": "SUZyA-dnfkfj",
        "outputId": "76403bf2-ffe0-4db2-ebbf-3b136f24b7b1"
      },
      "execution_count": 19,
      "outputs": [
        {
          "output_type": "stream",
          "name": "stdout",
          "text": [
            "banana\n",
            "4\n",
            "10\n",
            "(4, 10)\n"
          ]
        }
      ]
    },
    {
      "cell_type": "code",
      "source": [
        "text4=re.sub(pattern1,r\"watermelon\",text3)\n",
        "print(text4)"
      ],
      "metadata": {
        "colab": {
          "base_uri": "https://localhost:8080/"
        },
        "id": "eFIMiIHSgNIS",
        "outputId": "5ac882d7-8467-416b-a3d5-81e50b4c930a"
      },
      "execution_count": 22,
      "outputs": [
        {
          "output_type": "stream",
          "name": "stdout",
          "text": [
            "watermelonpearapplewatermelon\n"
          ]
        }
      ]
    }
  ]
}