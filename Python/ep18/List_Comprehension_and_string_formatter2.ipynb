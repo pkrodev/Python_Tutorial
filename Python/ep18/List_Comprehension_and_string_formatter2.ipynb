{
  "nbformat": 4,
  "nbformat_minor": 0,
  "metadata": {
    "colab": {
      "provenance": [],
      "authorship_tag": "ABX9TyMhVdvyq1dTBhN45RTxVX2n",
      "include_colab_link": true
    },
    "kernelspec": {
      "name": "python3",
      "display_name": "Python 3"
    },
    "language_info": {
      "name": "python"
    }
  },
  "cells": [
    {
      "cell_type": "markdown",
      "metadata": {
        "id": "view-in-github",
        "colab_type": "text"
      },
      "source": [
        "<a href=\"https://colab.research.google.com/github/pkrodev/Python_Tutorial/blob/main/Python/ep18/List_Comprehension_and_string_formatter2.ipynb\" target=\"_parent\"><img src=\"https://colab.research.google.com/assets/colab-badge.svg\" alt=\"Open In Colab\"/></a>"
      ]
    },
    {
      "cell_type": "code",
      "execution_count": 2,
      "metadata": {
        "colab": {
          "base_uri": "https://localhost:8080/"
        },
        "id": "6r1P0U5ivLzm",
        "outputId": "598a5aa9-c6c6-4f04-b71d-c56df8992a0c"
      },
      "outputs": [
        {
          "output_type": "stream",
          "name": "stdout",
          "text": [
            "Episode 17\n"
          ]
        }
      ],
      "source": [
        "print(\"Episode 17\")"
      ]
    },
    {
      "cell_type": "code",
      "source": [
        "list1 = list(range(10))"
      ],
      "metadata": {
        "id": "sGRQwPLiwuDI"
      },
      "execution_count": 1,
      "outputs": []
    },
    {
      "cell_type": "code",
      "source": [
        "newlist=[l*2 for l in list1]\n",
        "newestlist=[l*2 for l in list1 if l%2==0 ]\n",
        "print(list1)\n",
        "print(newlist)\n",
        "print(newestlist)"
      ],
      "metadata": {
        "colab": {
          "base_uri": "https://localhost:8080/"
        },
        "id": "pYeBJSBKwzqe",
        "outputId": "63c4c16d-893e-4411-b1eb-d1c49cd4daa2"
      },
      "execution_count": 4,
      "outputs": [
        {
          "output_type": "stream",
          "name": "stdout",
          "text": [
            "[0, 1, 2, 3, 4, 5, 6, 7, 8, 9]\n",
            "[0, 2, 4, 6, 8, 10, 12, 14, 16, 18]\n",
            "[0, 4, 8, 12, 16]\n"
          ]
        }
      ]
    },
    {
      "cell_type": "code",
      "source": [
        "args=[\"Andrew\",30]\n",
        "text = \"Hi, my name is {0} and I'm {1} years old\".format(args[0], args[1])\n",
        "print(text)"
      ],
      "metadata": {
        "colab": {
          "base_uri": "https://localhost:8080/"
        },
        "id": "rZqW0kLyxEHK",
        "outputId": "3787a688-56f4-4bef-d495-6c55a33efc9a"
      },
      "execution_count": 6,
      "outputs": [
        {
          "output_type": "stream",
          "name": "stdout",
          "text": [
            "Hi, my name is Andrew and I'm 30 years old\n"
          ]
        }
      ]
    },
    {
      "cell_type": "code",
      "source": [
        "print(\", \".join([\"a\",\"b\",\"c\"]))\n",
        "print(\"Hello World\".replace(\"Hello\", \"Welcome to\"))\n",
        "print(\"Just an ordinary sentence\".startswith(\"Just\"))\n",
        "print(\"Just an ordinary sentence\".endswith(\"SENTENCE\"))\n",
        "print(\"an\" in \"Just an ordinary sentence\")\n"
      ],
      "metadata": {
        "colab": {
          "base_uri": "https://localhost:8080/"
        },
        "id": "YxT0AS3W1ibN",
        "outputId": "2b507d11-2c61-4a7e-89ad-fdb9fbb8c70d"
      },
      "execution_count": 13,
      "outputs": [
        {
          "output_type": "stream",
          "name": "stdout",
          "text": [
            "a, b, c\n",
            "Welcome to World\n",
            "True\n",
            "False\n",
            "True\n"
          ]
        }
      ]
    },
    {
      "cell_type": "code",
      "source": [
        "list2=list(range(10))\n",
        "list3=[2,4,6,8,10]\n",
        "if any([l%2==0 for l in list2 ]):\n",
        "  print(\"At least one\")\n",
        "if all([l%2==0 for l in list3 ]):\n",
        "  print(\"All\")\n",
        "for i in enumerate(list3):\n",
        "  print(i)\n",
        "  print(i[0])\n",
        "  print(i[1])"
      ],
      "metadata": {
        "colab": {
          "base_uri": "https://localhost:8080/"
        },
        "id": "x4UiFLvK-Cf1",
        "outputId": "39711336-4fd4-4077-e7f2-eb440056ea1b"
      },
      "execution_count": 24,
      "outputs": [
        {
          "output_type": "stream",
          "name": "stdout",
          "text": [
            "At least one\n",
            "All\n",
            "(0, 2)\n",
            "0\n",
            "2\n",
            "(1, 4)\n",
            "1\n",
            "4\n",
            "(2, 6)\n",
            "2\n",
            "6\n",
            "(3, 8)\n",
            "3\n",
            "8\n",
            "(4, 10)\n",
            "4\n",
            "10\n"
          ]
        }
      ]
    }
  ]
}