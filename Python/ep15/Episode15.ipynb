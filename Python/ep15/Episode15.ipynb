{
  "nbformat": 4,
  "nbformat_minor": 0,
  "metadata": {
    "colab": {
      "provenance": [],
      "include_colab_link": true
    },
    "kernelspec": {
      "name": "python3",
      "display_name": "Python 3"
    },
    "language_info": {
      "name": "python"
    }
  },
  "cells": [
    {
      "cell_type": "markdown",
      "metadata": {
        "id": "view-in-github",
        "colab_type": "text"
      },
      "source": [
        "<a href=\"https://colab.research.google.com/github/pkrodev/Python_Tutorial/blob/main/Python/ep15/Episode15.ipynb\" target=\"_parent\"><img src=\"https://colab.research.google.com/assets/colab-badge.svg\" alt=\"Open In Colab\"/></a>"
      ]
    },
    {
      "cell_type": "code",
      "execution_count": null,
      "metadata": {
        "colab": {
          "base_uri": "https://localhost:8080/"
        },
        "id": "YbJkONhdG56U",
        "outputId": "ce54ef9d-f34e-40bf-abb6-ec7776e9cf71"
      },
      "outputs": [
        {
          "output_type": "stream",
          "name": "stdout",
          "text": [
            "Episode 15\n"
          ]
        }
      ],
      "source": [
        "print(\"Episode 15\")"
      ]
    },
    {
      "cell_type": "code",
      "source": [
        "dictionary={1: \"Monday\", 2: \"Tuesday\", 3:\"Wednesday\" }"
      ],
      "metadata": {
        "id": "65tVmRWFG9gV"
      },
      "execution_count": null,
      "outputs": []
    },
    {
      "cell_type": "code",
      "source": [
        "print(dictionary[1])\n",
        "dictionary[4]=\"Thursday\"\n",
        "dictionary[\"a\"]=1"
      ],
      "metadata": {
        "colab": {
          "base_uri": "https://localhost:8080/"
        },
        "id": "sR2U0OYqIN0F",
        "outputId": "d69d9831-49ae-4a2d-d53d-d46cd1eb91e2"
      },
      "execution_count": null,
      "outputs": [
        {
          "output_type": "stream",
          "name": "stdout",
          "text": [
            "Monday\n"
          ]
        }
      ]
    },
    {
      "cell_type": "code",
      "source": [
        "print(dictionary.get(3,\"Other day\"))"
      ],
      "metadata": {
        "colab": {
          "base_uri": "https://localhost:8080/"
        },
        "id": "Jf9-txyNI96E",
        "outputId": "9377410c-d715-4245-bd96-24c6357aacdf"
      },
      "execution_count": null,
      "outputs": [
        {
          "output_type": "stream",
          "name": "stdout",
          "text": [
            "Wednesday\n"
          ]
        }
      ]
    },
    {
      "cell_type": "code",
      "source": [
        "for l in dictionary: #dictionary.keys() or dictionary.values()\n",
        "  print(l)"
      ],
      "metadata": {
        "colab": {
          "base_uri": "https://localhost:8080/"
        },
        "id": "cZ07IgMPJMQZ",
        "outputId": "c7fc6f26-136f-4456-8b74-3e39625de7b2"
      },
      "execution_count": null,
      "outputs": [
        {
          "output_type": "stream",
          "name": "stdout",
          "text": [
            "1\n",
            "2\n",
            "3\n",
            "4\n",
            "a\n"
          ]
        }
      ]
    },
    {
      "cell_type": "code",
      "source": [
        "print(dictionary)\n",
        "print(\"\\n\")\n",
        "print(dictionary.pop(1))\n",
        "print(dictionary)"
      ],
      "metadata": {
        "colab": {
          "base_uri": "https://localhost:8080/"
        },
        "id": "EsZMEKzuJcpX",
        "outputId": "8684c8dc-376c-4509-d1ab-4874eaca5084"
      },
      "execution_count": null,
      "outputs": [
        {
          "output_type": "stream",
          "name": "stdout",
          "text": [
            "{1: 'Monday', 2: 'Tuesday', 3: 'Wednesday', 4: 'Thursday', 'a': 1}\n",
            "\n",
            "\n",
            "Monday\n",
            "{2: 'Tuesday', 3: 'Wednesday', 4: 'Thursday', 'a': 1}\n"
          ]
        }
      ]
    }
  ]
}