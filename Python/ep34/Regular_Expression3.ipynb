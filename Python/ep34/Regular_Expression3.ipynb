{
  "nbformat": 4,
  "nbformat_minor": 0,
  "metadata": {
    "colab": {
      "provenance": [],
      "authorship_tag": "ABX9TyOzD+Yhwk+oS0WjecetrOov",
      "include_colab_link": true
    },
    "kernelspec": {
      "name": "python3",
      "display_name": "Python 3"
    },
    "language_info": {
      "name": "python"
    }
  },
  "cells": [
    {
      "cell_type": "markdown",
      "metadata": {
        "id": "view-in-github",
        "colab_type": "text"
      },
      "source": [
        "<a href=\"https://colab.research.google.com/github/pkrodev/Python_Tutorial/blob/main/Python/ep34/Regular_Expression3.ipynb\" target=\"_parent\"><img src=\"https://colab.research.google.com/assets/colab-badge.svg\" alt=\"Open In Colab\"/></a>"
      ]
    },
    {
      "cell_type": "code",
      "execution_count": 2,
      "metadata": {
        "colab": {
          "base_uri": "https://localhost:8080/"
        },
        "id": "ESioIDzoBE0C",
        "outputId": "95b73c00-cca1-452d-dc85-27ef60fc04ca"
      },
      "outputs": [
        {
          "output_type": "stream",
          "name": "stdout",
          "text": [
            "Episode 34\n"
          ]
        }
      ],
      "source": [
        "print(\"Episode 34\")"
      ]
    },
    {
      "cell_type": "code",
      "source": [
        "import re"
      ],
      "metadata": {
        "id": "_JSCLgI5BYr_"
      },
      "execution_count": 3,
      "outputs": []
    },
    {
      "cell_type": "code",
      "source": [
        "if re.match(\"^[A-Z][a-z]*$\", \"Cat\"): #last compartment befor * doesn't have to occure but it can occure unlimited times\n",
        "  print(\"It fits\")\n",
        "else:\n",
        "  print(\"It doesn't fit\")"
      ],
      "metadata": {
        "colab": {
          "base_uri": "https://localhost:8080/"
        },
        "id": "9W0-Qp8dCb6g",
        "outputId": "e40ec952-ef32-40b6-e362-9dc78ffc132a"
      },
      "execution_count": 10,
      "outputs": [
        {
          "output_type": "stream",
          "name": "stdout",
          "text": [
            "It fits\n"
          ]
        }
      ]
    },
    {
      "cell_type": "code",
      "source": [
        "if re.match(\"^[A-Z][a-z]+$\", \"C\"): #the same as above but it does have to occure at least once\n",
        "  print(\"It fits\")\n",
        "else:\n",
        "  print(\"It doesn't fit\")"
      ],
      "metadata": {
        "colab": {
          "base_uri": "https://localhost:8080/"
        },
        "id": "RuX_7R1SHBcY",
        "outputId": "42d3f1f2-8cca-489d-8cb6-c0fad3802370"
      },
      "execution_count": 12,
      "outputs": [
        {
          "output_type": "stream",
          "name": "stdout",
          "text": [
            "It doesn't fit\n"
          ]
        }
      ]
    },
    {
      "cell_type": "code",
      "source": [
        "if re.match(\"^[A-Z][a-z]?[A-Z]$\", \"CaT\"): #[a-z]? have to occure only one time\n",
        "  print(\"It fits\")\n",
        "else:\n",
        "  print(\"It doesn't fit\")"
      ],
      "metadata": {
        "colab": {
          "base_uri": "https://localhost:8080/"
        },
        "id": "gtFBRWvbDd_b",
        "outputId": "237106ab-c969-4db1-e9e2-99aeae88da3b"
      },
      "execution_count": 15,
      "outputs": [
        {
          "output_type": "stream",
          "name": "stdout",
          "text": [
            "It fits\n"
          ]
        }
      ]
    },
    {
      "cell_type": "code",
      "source": [
        "if re.match(\"^[A-Z][a-z]?[A-Z]{2,5}$\", \"CaTTTT\"): #[A-Z]? have to occure at least 2 times but not more than 5\n",
        "  print(\"It fits\")\n",
        "else:\n",
        "  print(\"It doesn't fit\")"
      ],
      "metadata": {
        "colab": {
          "base_uri": "https://localhost:8080/"
        },
        "id": "b-RpFCzBz6Cj",
        "outputId": "e8ce215e-5f71-41bb-d1bd-25bc2e344c48"
      },
      "execution_count": 19,
      "outputs": [
        {
          "output_type": "stream",
          "name": "stdout",
          "text": [
            "It fits\n"
          ]
        }
      ]
    }
  ]
}