{
  "nbformat": 4,
  "nbformat_minor": 0,
  "metadata": {
    "colab": {
      "provenance": [],
      "authorship_tag": "ABX9TyMlE5d0CVVHRr99faDSmOZJ",
      "include_colab_link": true
    },
    "kernelspec": {
      "name": "python3",
      "display_name": "Python 3"
    },
    "language_info": {
      "name": "python"
    }
  },
  "cells": [
    {
      "cell_type": "markdown",
      "metadata": {
        "id": "view-in-github",
        "colab_type": "text"
      },
      "source": [
        "<a href=\"https://colab.research.google.com/github/pkrodev/Python_Tutorial/blob/main/Python/ep19/Episode19.ipynb\" target=\"_parent\"><img src=\"https://colab.research.google.com/assets/colab-badge.svg\" alt=\"Open In Colab\"/></a>"
      ]
    },
    {
      "cell_type": "code",
      "execution_count": 1,
      "metadata": {
        "colab": {
          "base_uri": "https://localhost:8080/"
        },
        "id": "txpcts33jTpO",
        "outputId": "9486c4e8-653e-4371-c204-d6d9baa7566a"
      },
      "outputs": [
        {
          "output_type": "stream",
          "name": "stdout",
          "text": [
            "Episod 19\n"
          ]
        }
      ],
      "source": [
        "print(\"Episod 19\")"
      ]
    },
    {
      "cell_type": "code",
      "source": [
        "file1=open(\"tekst.txt\", \"r\")\n",
        "if file1.readable():\n",
        "  text=file1.read()\n",
        "  print(text)\n",
        "\n",
        "file1.close()"
      ],
      "metadata": {
        "colab": {
          "base_uri": "https://localhost:8080/"
        },
        "id": "OOoDxl-jlrQJ",
        "outputId": "b3347763-1e18-4744-ae30-915970856b2a"
      },
      "execution_count": 2,
      "outputs": [
        {
          "output_type": "stream",
          "name": "stdout",
          "text": [
            "COVID-19 (od ang. coronavirus disease 2019)[4] – choroba zakaźna układu oddechowego wywołana zakażeniem wirusem SARS-CoV-2[5][6][7]. Została po raz pierwszy rozpoznana i opisana w listopadzie 2019, w środkowych Chinach (miasto Wuhan, w prowincji Hubei) podczas serii zachorowań zapoczątkowujących pandemię tej choroby[8][9][10][11].\n",
            "\n",
            "Standardową metodą diagnozowania zakażenia jest test łańcuchowej reakcji polimerazy w czasie rzeczywistym z odwrotną transkryptazą (RT-qPCR, real-time RT-PCR) wykonany z wymazu nosowo-gardłowego lub próbki plwociny, który dostarcza wyniki w czasie od kilku godzin do dwóch dni. Analiza przeciwciał z próbki surowicy krwi również może być wykorzystana jako metoda diagnostyczna, pozwalająca na otrzymanie wyniku w ciągu kilku dni[12]. Choroba może także zostać zdiagnozowana na podstawie oceny kombinacji objawów, czynników ryzyka oraz wyniku badania tomografii komputerowej klatki piersiowej, wykazującego cechy zapalenia płuc[13][14].\n",
            "\n",
            "Na podstawie danych aktualizowanych przez Uniwersytet Johnsa Hopkinsa z 12 sierpnia 2022 wyliczona śmiertelność (CFR – case fatality rate, czyli liczba zgonów na zarejestrowane przypadki zachorowania) jest na poziomie 1,09%[15]. Obecnie (dane z 11 sierpnia 2022) śmiertelność w Polsce wynosi 1,91%[16]. 30 stycznia 2020 roku WHO ogłosiło stan zagrożenia dla zdrowia publicznego o zasięgu międzynarodowym w wyniku rozprzestrzeniającej się epidemii COVID-19[17][18]. 11 marca 2020 WHO uznało serię zachorowań na COVID-19 występującą od listopada 2019 za pandemię[19][20]. 5 maja 2023 WHO ogłosiła, że choroba COVID-19 przestała stanowić globalne zagrożenie dla zdrowia publicznego[21]. \n"
          ]
        }
      ]
    },
    {
      "cell_type": "code",
      "source": [
        "def fun1(example_text,seeking_char):\n",
        "  counter=0\n",
        "  file1=open(example_text, \"r\")\n",
        "  if file1.readable():\n",
        "    text=file1.read()\n",
        "\n",
        "  for i in text:\n",
        "    if i==seeking_char:\n",
        "      counter+=1\n",
        "  file1.close()\n",
        "  return counter"
      ],
      "metadata": {
        "id": "WH9p7NDIlrSs"
      },
      "execution_count": 12,
      "outputs": []
    },
    {
      "cell_type": "code",
      "source": [
        "print(fun1('tekst.txt','a'))\n",
        "print(fun1('tekst.txt','A')+fun1('tekst.txt','a')) #print(fun1(file1.lower(),'a')) it's the same"
      ],
      "metadata": {
        "colab": {
          "base_uri": "https://localhost:8080/"
        },
        "id": "i8mN7twxlrVB",
        "outputId": "faf44e8a-047e-431d-b7a4-8d78747de2f9"
      },
      "execution_count": 28,
      "outputs": [
        {
          "output_type": "stream",
          "name": "stdout",
          "text": [
            "139\n",
            "141\n"
          ]
        }
      ]
    },
    {
      "cell_type": "code",
      "source": [
        "def fun2(example_text):\n",
        "  counter=0\n",
        "  list1=[]\n",
        "  file1=open(example_text, \"r\")\n",
        "\n",
        "\n",
        "  if file1.readable():\n",
        "    text=file1.read()\n",
        "    for i in range(97, 123):\n",
        "      list1.append(0)\n",
        "      for j in text:\n",
        "        if j==chr(i):\n",
        "          list1[counter]+=1\n",
        "      counter+=1\n",
        "\n",
        "\n",
        "  print(list1)\n",
        "  file1.close()"
      ],
      "metadata": {
        "id": "5h4h3Y8RlrXg"
      },
      "execution_count": 46,
      "outputs": []
    },
    {
      "cell_type": "code",
      "source": [],
      "metadata": {
        "id": "2v7ItHp7IFi_"
      },
      "execution_count": null,
      "outputs": []
    },
    {
      "cell_type": "code",
      "source": [
        "my_list = [\n",
        "    (1, \"Pierwszy element\"),  # Komentarz dla pierwszego elementu\n",
        "    (2, \"Drugi element\"),      # Komentarz dla drugiego elementu\n",
        "    (3, \"Trzeci element\")      # Komentarz dla trzeciego elementu\n",
        "]\n",
        "\n",
        "print(my_list)\n",
        "\n",
        "my_list.append((4, \"Czwarty element\"))  # Dodanie nowej krotki na końcu listy\n",
        "\n",
        "print(my_list)\n",
        "\n"
      ],
      "metadata": {
        "id": "ymf2qm3EI3TG"
      },
      "execution_count": null,
      "outputs": []
    },
    {
      "cell_type": "code",
      "source": [
        "fun2('tekst.txt')"
      ],
      "metadata": {
        "colab": {
          "base_uri": "https://localhost:8080/"
        },
        "id": "U3sHlE4flraQ",
        "outputId": "dc9beb9d-0f39-4879-e727-dde406a20739"
      },
      "execution_count": 47,
      "outputs": [
        {
          "output_type": "stream",
          "name": "stdout",
          "text": [
            "[139, 17, 51, 41, 78, 2, 20, 19, 100, 19, 35, 26, 25, 76, 111, 37, 1, 62, 48, 45, 27, 1, 60, 0, 42, 68]\n"
          ]
        }
      ]
    },
    {
      "cell_type": "code",
      "source": [
        "# Oryginalna krotka\n",
        "my_tuple = (1, \"Pierwszy element\")\n",
        "\n",
        "# Nowy element, który chcemy dodać\n",
        "new_element = 5\n",
        "\n",
        "# Tworzenie nowej krotki z dodanym nowym elementem\n",
        "new_tuple = my_tuple + (new_element,)\n",
        "\n",
        "print(new_tuple)\n"
      ],
      "metadata": {
        "colab": {
          "base_uri": "https://localhost:8080/"
        },
        "id": "AtqVzkO2GkEB",
        "outputId": "6266d79e-3c2f-41c8-e891-8ea0a755ec17"
      },
      "execution_count": 48,
      "outputs": [
        {
          "output_type": "stream",
          "name": "stdout",
          "text": [
            "(1, 'Pierwszy element', 5)\n"
          ]
        }
      ]
    }
  ]
}