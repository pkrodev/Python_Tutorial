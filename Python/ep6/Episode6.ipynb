{
  "nbformat": 4,
  "nbformat_minor": 0,
  "metadata": {
    "colab": {
      "provenance": [],
      "authorship_tag": "ABX9TyP26CABL7F7a7/Q8jrd5uc0",
      "include_colab_link": true
    },
    "kernelspec": {
      "name": "python3",
      "display_name": "Python 3"
    },
    "language_info": {
      "name": "python"
    }
  },
  "cells": [
    {
      "cell_type": "markdown",
      "metadata": {
        "id": "view-in-github",
        "colab_type": "text"
      },
      "source": [
        "<a href=\"https://colab.research.google.com/github/pkrodev/Python_Tutorial/blob/main/Python/ep6/Episode6.ipynb\" target=\"_parent\"><img src=\"https://colab.research.google.com/assets/colab-badge.svg\" alt=\"Open In Colab\"/></a>"
      ]
    },
    {
      "cell_type": "code",
      "source": [
        "from random import randint"
      ],
      "metadata": {
        "id": "MKNZQCs1VPTg"
      },
      "execution_count": 23,
      "outputs": []
    },
    {
      "cell_type": "code",
      "execution_count": 24,
      "metadata": {
        "colab": {
          "base_uri": "https://localhost:8080/"
        },
        "id": "BGxYoOyyVEHF",
        "outputId": "254307d5-b409-4e17-b0ec-2b2b0f5ea5b4"
      },
      "outputs": [
        {
          "output_type": "stream",
          "name": "stdout",
          "text": [
            "Episode 6\n"
          ]
        }
      ],
      "source": [
        "print(\"Episode 6\")"
      ]
    },
    {
      "cell_type": "code",
      "source": [
        "answer=int(input(\"Player 1 type your number now: \"))"
      ],
      "metadata": {
        "colab": {
          "base_uri": "https://localhost:8080/"
        },
        "id": "nsq7eYbSVKfh",
        "outputId": "ef06d984-0100-409c-a2b0-d1e2e6ad4ce7"
      },
      "execution_count": 29,
      "outputs": [
        {
          "name": "stdout",
          "output_type": "stream",
          "text": [
            "Player 1 type your number now: 77\n"
          ]
        }
      ]
    },
    {
      "cell_type": "code",
      "source": [
        "guess = int(input(\"Player 2 type your guess: \"))"
      ],
      "metadata": {
        "colab": {
          "base_uri": "https://localhost:8080/"
        },
        "id": "wd-1LbmgVv72",
        "outputId": "9d0ebe68-1a3f-4e7c-e0cb-c2657a13fcb4"
      },
      "execution_count": 30,
      "outputs": [
        {
          "name": "stdout",
          "output_type": "stream",
          "text": [
            "Player 2 type your guess: 88\n"
          ]
        }
      ]
    },
    {
      "cell_type": "code",
      "source": [
        "i=1"
      ],
      "metadata": {
        "id": "DGFOXZIKYHwz"
      },
      "execution_count": 31,
      "outputs": []
    },
    {
      "cell_type": "code",
      "source": [
        "while answer != guess:\n",
        "  if guess > answer:\n",
        "    print(\"Lower!\")\n",
        "    guess=int(input(\"Type your number again: \"))\n",
        "    i+=1\n",
        "  elif answer > guess:\n",
        "    print(\"Higher!\")\n",
        "    guess=int(input(\"Type your number again: \"))\n",
        "    i+=1\n",
        "print(\"Hurray, you finally guess with your \"+ str(i) + \" chance\")\n"
      ],
      "metadata": {
        "colab": {
          "base_uri": "https://localhost:8080/"
        },
        "id": "gVzYERwjWuWt",
        "outputId": "a570050c-c135-4d57-8157-517b581355ba"
      },
      "execution_count": 32,
      "outputs": [
        {
          "output_type": "stream",
          "name": "stdout",
          "text": [
            "Lower!\n",
            "Type your number again: 99\n",
            "Lower!\n",
            "Type your number again: 87\n",
            "Lower!\n",
            "Type your number again: 76\n",
            "Higher!\n",
            "Type your number again: 55\n",
            "Higher!\n",
            "Type your number again: 77\n",
            "Hurray, you finally guess with your 6 chance\n"
          ]
        }
      ]
    }
  ]
}