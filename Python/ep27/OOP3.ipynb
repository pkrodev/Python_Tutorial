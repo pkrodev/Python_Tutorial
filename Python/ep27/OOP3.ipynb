{
  "nbformat": 4,
  "nbformat_minor": 0,
  "metadata": {
    "colab": {
      "provenance": [],
      "authorship_tag": "ABX9TyMThXvTfncHVPNkp6WWyeQX",
      "include_colab_link": true
    },
    "kernelspec": {
      "name": "python3",
      "display_name": "Python 3"
    },
    "language_info": {
      "name": "python"
    }
  },
  "cells": [
    {
      "cell_type": "markdown",
      "metadata": {
        "id": "view-in-github",
        "colab_type": "text"
      },
      "source": [
        "<a href=\"https://colab.research.google.com/github/pkrodev/Python_Tutorial/blob/main/Python/ep27/OOP3.ipynb\" target=\"_parent\"><img src=\"https://colab.research.google.com/assets/colab-badge.svg\" alt=\"Open In Colab\"/></a>"
      ]
    },
    {
      "cell_type": "code",
      "execution_count": 1,
      "metadata": {
        "colab": {
          "base_uri": "https://localhost:8080/"
        },
        "id": "1E_woOpQ0vcQ",
        "outputId": "0f592c98-eb66-47db-fd51-4bc748f694f4"
      },
      "outputs": [
        {
          "output_type": "stream",
          "name": "stdout",
          "text": [
            "Episode 27\n"
          ]
        }
      ],
      "source": [
        "print(\"Episode 27\")"
      ]
    },
    {
      "cell_type": "code",
      "source": [
        "import math"
      ],
      "metadata": {
        "id": "Vnb64taL01HD"
      },
      "execution_count": 2,
      "outputs": []
    },
    {
      "cell_type": "code",
      "source": [
        "class Point2D:\n",
        "  def __init__(self,x=0,y=0):\n",
        "    self.x=x\n",
        "    self.y=y\n",
        "    self.range=math.sqrt(x**2+y**2)\n",
        "  def add(self, a,b):\n",
        "    self.x=a.x+b.x\n",
        "  def __add__(self, second):\n",
        "    return Point2D(self.x+ second.x, self.y+second.y)\n",
        "  def __lt__(self, second):\n",
        "    return self.range<second.range\n",
        ""
      ],
      "metadata": {
        "id": "dWd4zNFr03oU"
      },
      "execution_count": 24,
      "outputs": []
    },
    {
      "cell_type": "code",
      "source": [
        "p1=Point2D(2,6)\n",
        "p2=Point2D(4,4)\n",
        "p3=Point2D(0,0)\n",
        "p3.add(p1,p2)\n",
        "print(p3.x)\n",
        "p4=Point2D()\n",
        "p4=p1+p2\n",
        "print(p4.x)\n",
        "print(p4.y)\n",
        "print(p1<p2)"
      ],
      "metadata": {
        "colab": {
          "base_uri": "https://localhost:8080/"
        },
        "id": "slVxAzXM2HHB",
        "outputId": "ccb63e03-c2d4-4668-fb52-cba534f9af6c"
      },
      "execution_count": 26,
      "outputs": [
        {
          "output_type": "stream",
          "name": "stdout",
          "text": [
            "6\n",
            "6\n",
            "10\n",
            "False\n"
          ]
        }
      ]
    }
  ]
}