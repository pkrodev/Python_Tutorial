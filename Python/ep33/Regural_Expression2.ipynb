{
  "nbformat": 4,
  "nbformat_minor": 0,
  "metadata": {
    "colab": {
      "provenance": [],
      "authorship_tag": "ABX9TyNfvrS7dNPt+ItSnDvvVRcY",
      "include_colab_link": true
    },
    "kernelspec": {
      "name": "python3",
      "display_name": "Python 3"
    },
    "language_info": {
      "name": "python"
    }
  },
  "cells": [
    {
      "cell_type": "markdown",
      "metadata": {
        "id": "view-in-github",
        "colab_type": "text"
      },
      "source": [
        "<a href=\"https://colab.research.google.com/github/pkrodev/Python_Tutorial/blob/main/Python/ep33/Regural_Expression2.ipynb\" target=\"_parent\"><img src=\"https://colab.research.google.com/assets/colab-badge.svg\" alt=\"Open In Colab\"/></a>"
      ]
    },
    {
      "cell_type": "code",
      "execution_count": 1,
      "metadata": {
        "colab": {
          "base_uri": "https://localhost:8080/"
        },
        "id": "buzfTwU4hSrK",
        "outputId": "6554ea72-4e94-415c-b515-4194f575c9c3"
      },
      "outputs": [
        {
          "output_type": "stream",
          "name": "stdout",
          "text": [
            "Episode33\n"
          ]
        }
      ],
      "source": [
        "print(\"Episode33\")"
      ]
    },
    {
      "cell_type": "code",
      "source": [
        "import re"
      ],
      "metadata": {
        "id": "_GVL--rxhnaA"
      },
      "execution_count": 2,
      "outputs": []
    },
    {
      "cell_type": "code",
      "source": [
        "if re.match(\"ca.\",\"calf\"):\n",
        "  print(\"It fits\")\n",
        "else:\n",
        "  print(\"It doesnt fit\")"
      ],
      "metadata": {
        "colab": {
          "base_uri": "https://localhost:8080/"
        },
        "id": "PdeEkJC2hsRw",
        "outputId": "f3236128-440c-4583-b2ea-cc7d2d851ed8"
      },
      "execution_count": 10,
      "outputs": [
        {
          "output_type": "stream",
          "name": "stdout",
          "text": [
            "It fits\n"
          ]
        }
      ]
    },
    {
      "cell_type": "code",
      "source": [
        "if re.match(\"^ca.$\",\"calf\"):\n",
        "  print(\"It fits\")\n",
        "else:\n",
        "  print(\"It doesnt fit\")"
      ],
      "metadata": {
        "colab": {
          "base_uri": "https://localhost:8080/"
        },
        "id": "maVYpNm_iNB3",
        "outputId": "a63022c5-df0c-490d-8862-cc57a56d2c51"
      },
      "execution_count": 13,
      "outputs": [
        {
          "output_type": "stream",
          "name": "stdout",
          "text": [
            "It doesnt fit\n"
          ]
        }
      ]
    },
    {
      "cell_type": "code",
      "source": [
        "if re.match(\"^[Cc]a.$\",\"car\"):\n",
        "  print(\"It fits\")\n",
        "else:\n",
        "  print(\"It doesnt fit\")\n",
        "\n",
        "if re.match(\"^[Cc]a.$\",\"Car\"):\n",
        "  print(\"It fits\")\n",
        "else:\n",
        "  print(\"It doesnt fit\")"
      ],
      "metadata": {
        "colab": {
          "base_uri": "https://localhost:8080/"
        },
        "id": "uwQIGXHSieLx",
        "outputId": "a2d20dcb-be13-413f-dfaa-6d577235bf8a"
      },
      "execution_count": 15,
      "outputs": [
        {
          "output_type": "stream",
          "name": "stdout",
          "text": [
            "It fits\n",
            "It fits\n"
          ]
        }
      ]
    },
    {
      "cell_type": "code",
      "source": [
        "if re.match(\"^[A-Z]a.$\",\"car\"):\n",
        "  print(\"It fits\")\n",
        "else:\n",
        "  print(\"It doesnt fit\")\n",
        "\n",
        "\n",
        "if re.match(\"^[A-Z]a.$\",\"Car\"):\n",
        "  print(\"It fits\")\n",
        "else:\n",
        "  print(\"It doesnt fit\")\n",
        "\n",
        "if re.match(\"^[A-Za-z]a.$\",\"car\"):\n",
        "  print(\"It fits\")\n",
        "else:\n",
        "  print(\"It doesnt fit\")"
      ],
      "metadata": {
        "colab": {
          "base_uri": "https://localhost:8080/"
        },
        "id": "wLIIV8mym5Iy",
        "outputId": "d9816a18-81a2-45fc-d6fa-b96bff3e22ba"
      },
      "execution_count": 20,
      "outputs": [
        {
          "output_type": "stream",
          "name": "stdout",
          "text": [
            "It doesnt fit\n",
            "It fits\n",
            "It fits\n"
          ]
        }
      ]
    },
    {
      "cell_type": "code",
      "source": [
        "if re.match(\"^[^a-z]a.$\",\"car\"):\n",
        "  print(\"It fits\")\n",
        "else:\n",
        "  print(\"It doesnt fit\")\n",
        "\n",
        "if re.match(\"^[^A-Z]a.$\",\"car\"):\n",
        "  print(\"It fits\")\n",
        "else:\n",
        "  print(\"It doesnt fit\")"
      ],
      "metadata": {
        "colab": {
          "base_uri": "https://localhost:8080/"
        },
        "id": "kPmWHQqWnkyY",
        "outputId": "d35061e6-61b7-42f6-ed28-a01db7dd731f"
      },
      "execution_count": 22,
      "outputs": [
        {
          "output_type": "stream",
          "name": "stdout",
          "text": [
            "It doesnt fit\n",
            "It fits\n"
          ]
        }
      ]
    },
    {
      "cell_type": "code",
      "source": [
        "if re.match(\"^[A-Z]a.[+=-][0-9][0-9][0-9][0-9]$\",\"Car-1998\"):\n",
        "  print(\"It fits\")\n",
        "else:\n",
        "  print(\"It doesnt fit\")"
      ],
      "metadata": {
        "colab": {
          "base_uri": "https://localhost:8080/"
        },
        "id": "7E0Dk1Hkn-b4",
        "outputId": "786ee257-6c5d-49a5-86f2-dfdb32fa58f5"
      },
      "execution_count": 23,
      "outputs": [
        {
          "output_type": "stream",
          "name": "stdout",
          "text": [
            "It fits\n"
          ]
        }
      ]
    }
  ]
}