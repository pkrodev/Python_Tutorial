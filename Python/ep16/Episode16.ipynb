{
  "nbformat": 4,
  "nbformat_minor": 0,
  "metadata": {
    "colab": {
      "provenance": [],
      "authorship_tag": "ABX9TyMNTRvdeYbx3vqvMygkTMpt",
      "include_colab_link": true
    },
    "kernelspec": {
      "name": "python3",
      "display_name": "Python 3"
    },
    "language_info": {
      "name": "python"
    }
  },
  "cells": [
    {
      "cell_type": "markdown",
      "metadata": {
        "id": "view-in-github",
        "colab_type": "text"
      },
      "source": [
        "<a href=\"https://colab.research.google.com/github/pkrodev/Python_Tutorial/blob/main/Python/ep16/Episode16.ipynb\" target=\"_parent\"><img src=\"https://colab.research.google.com/assets/colab-badge.svg\" alt=\"Open In Colab\"/></a>"
      ]
    },
    {
      "cell_type": "code",
      "execution_count": 1,
      "metadata": {
        "colab": {
          "base_uri": "https://localhost:8080/"
        },
        "id": "G8qsVNrzbiff",
        "outputId": "494eb7b9-b5ce-40ae-ef57-49a55d0c892c"
      },
      "outputs": [
        {
          "output_type": "stream",
          "name": "stdout",
          "text": [
            "Episode 16\n"
          ]
        }
      ],
      "source": [
        "print(\"Episode 16\")"
      ]
    },
    {
      "cell_type": "code",
      "source": [
        "tuple1=(2,4,8,16,32,64,128,256,512,1024,2048)\n",
        "print(tuple1[0])\n",
        "print(tuple1.count(8))\n",
        "print(tuple1.index(128))"
      ],
      "metadata": {
        "colab": {
          "base_uri": "https://localhost:8080/"
        },
        "id": "_Rpayaz7l1xW",
        "outputId": "085f3723-5c9a-4d84-8c08-636400722374"
      },
      "execution_count": 3,
      "outputs": [
        {
          "output_type": "stream",
          "name": "stdout",
          "text": [
            "2\n",
            "1\n",
            "6\n"
          ]
        }
      ]
    },
    {
      "cell_type": "code",
      "source": [
        "print(tuple1[0:5])\n",
        "print(tuple1[2:5])\n",
        "print(tuple1[0:99])\n",
        "print(tuple1[-1:])\n",
        "print(tuple1[0:10:3])\n",
        "print(tuple1[0::2])\n",
        "print(tuple1[::-1])"
      ],
      "metadata": {
        "colab": {
          "base_uri": "https://localhost:8080/"
        },
        "id": "uHZ-p3NsmVZ-",
        "outputId": "a4feeecc-0ef4-40ae-bbdb-4fa8eb899fb3"
      },
      "execution_count": 16,
      "outputs": [
        {
          "output_type": "stream",
          "name": "stdout",
          "text": [
            "(2, 4, 8, 16, 32)\n",
            "(8, 16, 32)\n",
            "(2, 4, 8, 16, 32, 64, 128, 256, 512, 1024, 2048)\n",
            "(2048,)\n",
            "(2, 16, 128, 1024)\n",
            "(2, 8, 32, 128, 512, 2048)\n",
            "(2048, 1024, 512, 256, 128, 64, 32, 16, 8, 4, 2)\n"
          ]
        }
      ]
    },
    {
      "cell_type": "code",
      "source": [],
      "metadata": {
        "id": "-OmrPjj4nfyz"
      },
      "execution_count": null,
      "outputs": []
    }
  ]
}