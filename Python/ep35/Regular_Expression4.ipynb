{
  "nbformat": 4,
  "nbformat_minor": 0,
  "metadata": {
    "colab": {
      "provenance": [],
      "authorship_tag": "ABX9TyNuNvDQKnbyW5NbxFOAb5Ys",
      "include_colab_link": true
    },
    "kernelspec": {
      "name": "python3",
      "display_name": "Python 3"
    },
    "language_info": {
      "name": "python"
    }
  },
  "cells": [
    {
      "cell_type": "markdown",
      "metadata": {
        "id": "view-in-github",
        "colab_type": "text"
      },
      "source": [
        "<a href=\"https://colab.research.google.com/github/pkrodev/Python_Tutorial/blob/main/Python/ep35/Regular_Expression4.ipynb\" target=\"_parent\"><img src=\"https://colab.research.google.com/assets/colab-badge.svg\" alt=\"Open In Colab\"/></a>"
      ]
    },
    {
      "cell_type": "code",
      "execution_count": null,
      "metadata": {
        "colab": {
          "base_uri": "https://localhost:8080/"
        },
        "id": "Ode4e0v30sP8",
        "outputId": "f0519681-74a0-4a58-9844-73e5166e988c"
      },
      "outputs": [
        {
          "output_type": "stream",
          "name": "stdout",
          "text": [
            "Episode 35\n"
          ]
        }
      ],
      "source": [
        "print(\"Episode 35\")"
      ]
    },
    {
      "cell_type": "code",
      "source": [
        "import re"
      ],
      "metadata": {
        "id": "IVs6xIy403ug"
      },
      "execution_count": 2,
      "outputs": []
    },
    {
      "cell_type": "code",
      "source": [
        "result1= re.match(r\"^(?P<hi>Hello)(?:(World))+(!!!|\\.)$\", \"HelloWorldWorld!!!\")# ? group without adding to group ?P<> group with name (!|\\.) last one must be ! or ."
      ],
      "metadata": {
        "id": "MADa-cdW_uv1"
      },
      "execution_count": 36,
      "outputs": []
    },
    {
      "cell_type": "code",
      "source": [
        "if result1:\n",
        "  print(\"It fits\")\n",
        "  print(result1.group(0))\n",
        "  print(result1.groups())\n",
        "  print(result1.group(1))\n",
        "  print(result1.group(2))\n",
        "  print(result1.group(\"hi\"))\n",
        "else:\n",
        "   print(\"Doesn't fit\")"
      ],
      "metadata": {
        "colab": {
          "base_uri": "https://localhost:8080/"
        },
        "id": "do3EXMuYADT0",
        "outputId": "98d81fae-980a-4643-ffe6-1c5130f728a4"
      },
      "execution_count": 37,
      "outputs": [
        {
          "output_type": "stream",
          "name": "stdout",
          "text": [
            "It fits\n",
            "HelloWorldWorld!!!\n",
            "('Hello', 'World', '!!!')\n",
            "Hello\n",
            "World\n",
            "Hello\n"
          ]
        }
      ]
    }
  ]
}