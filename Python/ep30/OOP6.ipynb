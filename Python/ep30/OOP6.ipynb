{
  "nbformat": 4,
  "nbformat_minor": 0,
  "metadata": {
    "colab": {
      "provenance": [],
      "authorship_tag": "ABX9TyPHiaxol0n9hQBf/PMKjRhy",
      "include_colab_link": true
    },
    "kernelspec": {
      "name": "python3",
      "display_name": "Python 3"
    },
    "language_info": {
      "name": "python"
    }
  },
  "cells": [
    {
      "cell_type": "markdown",
      "metadata": {
        "id": "view-in-github",
        "colab_type": "text"
      },
      "source": [
        "<a href=\"https://colab.research.google.com/github/pkrodev/Python_Tutorial/blob/main/Python/ep30/OOP6.ipynb\" target=\"_parent\"><img src=\"https://colab.research.google.com/assets/colab-badge.svg\" alt=\"Open In Colab\"/></a>"
      ]
    },
    {
      "cell_type": "code",
      "execution_count": 1,
      "metadata": {
        "colab": {
          "base_uri": "https://localhost:8080/"
        },
        "id": "1kZwH9tsSb27",
        "outputId": "8faef1c5-3923-4e92-b50b-69aadc4cb7c0"
      },
      "outputs": [
        {
          "output_type": "stream",
          "name": "stdout",
          "text": [
            "Episode 30\n"
          ]
        }
      ],
      "source": [
        "print(\"Episode 30\")"
      ]
    },
    {
      "cell_type": "code",
      "source": [
        "class Human:\n",
        "  def __init__(self,name):\n",
        "    self.name=name\n",
        "  def introduce(self):\n",
        "    print(\"My name is \"+ self.name)\n",
        "  @classmethod\n",
        "  def new_human(cls, name):\n",
        "    return cls(name)\n",
        "  @staticmethod\n",
        "  def say_hello(arg):\n",
        "    print(\"Hi \"+ arg)"
      ],
      "metadata": {
        "id": "Z8u1-tGKSg3k"
      },
      "execution_count": 2,
      "outputs": []
    },
    {
      "cell_type": "code",
      "source": [
        "hu1=Human(\"Andrew\")\n",
        "hu2=Human.new_human(\"Tristan\")\n",
        "hu3=hu2.new_human(\"Peter\")\n",
        "hu3.introduce()\n",
        "hu4=hu1.new_human(\"Kate\")\n",
        "hu3.say_hello(hu3.name)\n",
        "hu4.say_hello(hu4.name)\n",
        "hu4.introduce()\n",
        "hu2.introduce()\n",
        "hu1.introduce()\n",
        "Human.say_hello(\"Bobby\")"
      ],
      "metadata": {
        "colab": {
          "base_uri": "https://localhost:8080/"
        },
        "id": "UCH4rtn7UA7X",
        "outputId": "1fefd5c3-b552-4ec2-f628-dfa259c2d688"
      },
      "execution_count": 11,
      "outputs": [
        {
          "output_type": "stream",
          "name": "stdout",
          "text": [
            "My name is Peter\n",
            "Hi Peter\n",
            "Hi Kate\n",
            "My name is Kate\n",
            "My name is Tristan\n",
            "My name is Andrew\n",
            "Hi Bobby\n"
          ]
        }
      ]
    }
  ]
}