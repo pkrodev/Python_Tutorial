{
  "nbformat": 4,
  "nbformat_minor": 0,
  "metadata": {
    "colab": {
      "provenance": [],
      "authorship_tag": "ABX9TyNS09g+tfoJq8ZeRhjaEiUw",
      "include_colab_link": true
    },
    "kernelspec": {
      "name": "python3",
      "display_name": "Python 3"
    },
    "language_info": {
      "name": "python"
    }
  },
  "cells": [
    {
      "cell_type": "markdown",
      "metadata": {
        "id": "view-in-github",
        "colab_type": "text"
      },
      "source": [
        "<a href=\"https://colab.research.google.com/github/pkrodev/Python_Tutorial/blob/main/Python/ep12/Untitled5.ipynb\" target=\"_parent\"><img src=\"https://colab.research.google.com/assets/colab-badge.svg\" alt=\"Open In Colab\"/></a>"
      ]
    },
    {
      "cell_type": "code",
      "execution_count": 1,
      "metadata": {
        "colab": {
          "base_uri": "https://localhost:8080/"
        },
        "id": "OBpSmhaP-rK0",
        "outputId": "6768e26a-c965-4afd-ba65-3134c347f728"
      },
      "outputs": [
        {
          "output_type": "stream",
          "name": "stdout",
          "text": [
            "Episode 12\n"
          ]
        }
      ],
      "source": [
        "print(\"Episode 12\")"
      ]
    },
    {
      "cell_type": "code",
      "source": [
        "\n",
        "list1=[]\n",
        "try:\n",
        "  #print(list1[0])\n",
        "  #print(x)\n",
        "  print(4+\"@\")\n",
        "  print(\"All is good\")\n",
        "\n",
        "\n",
        "except (NameError,IndexError):\n",
        "  print(\"You didn't set this variable!\")\n",
        "except :\n",
        "  print(\"Some other error!\")\n",
        "finally:\n",
        "  print(\"You will see me anyway\")"
      ],
      "metadata": {
        "colab": {
          "base_uri": "https://localhost:8080/"
        },
        "id": "jgPWeWTkH7lx",
        "outputId": "7143f111-fc0e-4f76-dd9f-d83734809d90"
      },
      "execution_count": 10,
      "outputs": [
        {
          "output_type": "stream",
          "name": "stdout",
          "text": [
            "Some other error!\n",
            "You will see me anyway\n"
          ]
        }
      ]
    }
  ]
}