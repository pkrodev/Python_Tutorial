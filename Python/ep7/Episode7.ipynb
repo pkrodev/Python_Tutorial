{
  "nbformat": 4,
  "nbformat_minor": 0,
  "metadata": {
    "colab": {
      "provenance": [],
      "authorship_tag": "ABX9TyO6ph0jOiegvYme+sIspwQD"
    },
    "kernelspec": {
      "name": "python3",
      "display_name": "Python 3"
    },
    "language_info": {
      "name": "python"
    }
  },
  "cells": [
    {
      "cell_type": "code",
      "execution_count": 38,
      "metadata": {
        "colab": {
          "base_uri": "https://localhost:8080/"
        },
        "id": "CTQiZyULF3CV",
        "outputId": "1279ef7f-ad04-472f-b8c6-24cb0700cab7"
      },
      "outputs": [
        {
          "output_type": "stream",
          "name": "stdout",
          "text": [
            "Episode7\n"
          ]
        }
      ],
      "source": [
        "print(\"Episode7\")"
      ]
    },
    {
      "cell_type": "code",
      "source": [
        "list1=[]\n",
        "list2=[1,2,3,]\n",
        "list3=[5,6,7,\"a\",\"b\"]\n",
        "list4=[8,9,\"c\",\"d\",[10,11,\"e\",\"f\"]]"
      ],
      "metadata": {
        "id": "CJxBjQPwGb_p"
      },
      "execution_count": 39,
      "outputs": []
    },
    {
      "cell_type": "code",
      "source": [
        "print(list1)\n",
        "print(list2)\n",
        "print(list3)\n",
        "print(list4)"
      ],
      "metadata": {
        "colab": {
          "base_uri": "https://localhost:8080/"
        },
        "id": "qRYHizv1IZMY",
        "outputId": "1c53ef5e-e927-46bb-ec30-db8c69a74d7c"
      },
      "execution_count": 40,
      "outputs": [
        {
          "output_type": "stream",
          "name": "stdout",
          "text": [
            "[]\n",
            "[1, 2, 3]\n",
            "[5, 6, 7, 'a', 'b']\n",
            "[8, 9, 'c', 'd', [10, 11, 'e', 'f']]\n"
          ]
        }
      ]
    },
    {
      "cell_type": "code",
      "source": [
        "print(len(list1))\n",
        "print(len(list2))\n",
        "print(len(list3))\n",
        "print(len(list4))"
      ],
      "metadata": {
        "colab": {
          "base_uri": "https://localhost:8080/"
        },
        "id": "BFqjkAEJIiIx",
        "outputId": "7c020d68-d1e1-4df5-f94d-13786a0615a3"
      },
      "execution_count": 41,
      "outputs": [
        {
          "output_type": "stream",
          "name": "stdout",
          "text": [
            "0\n",
            "3\n",
            "5\n",
            "5\n"
          ]
        }
      ]
    },
    {
      "cell_type": "code",
      "source": [
        "print(list4[4][0])"
      ],
      "metadata": {
        "colab": {
          "base_uri": "https://localhost:8080/"
        },
        "id": "lZZoCqpfbpBa",
        "outputId": "0fadb52f-3a95-417c-b02d-69bfea5949b6"
      },
      "execution_count": 42,
      "outputs": [
        {
          "output_type": "stream",
          "name": "stdout",
          "text": [
            "10\n"
          ]
        }
      ]
    },
    {
      "cell_type": "code",
      "source": [
        "i=4\n",
        "while True:\n",
        "  list2.append(i)\n",
        "  i+=1\n",
        "  if i==11:\n",
        "    break\n",
        "print(list2)"
      ],
      "metadata": {
        "colab": {
          "base_uri": "https://localhost:8080/"
        },
        "id": "Peo550z5b2aY",
        "outputId": "4e89eee7-4cad-491d-c428-d172817ead78"
      },
      "execution_count": 43,
      "outputs": [
        {
          "output_type": "stream",
          "name": "stdout",
          "text": [
            "[1, 2, 3, 4, 5, 6, 7, 8, 9, 10]\n"
          ]
        }
      ]
    },
    {
      "cell_type": "code",
      "source": [
        "i=7\n",
        "while i>=0:\n",
        "  list4.insert(0,i)\n",
        "  i-=1\n",
        "print(list4)"
      ],
      "metadata": {
        "colab": {
          "base_uri": "https://localhost:8080/"
        },
        "id": "LZW_jcqXcbkW",
        "outputId": "34dfa3e4-4db5-43d4-b37a-cc01ec04dfe2"
      },
      "execution_count": 44,
      "outputs": [
        {
          "output_type": "stream",
          "name": "stdout",
          "text": [
            "[0, 1, 2, 3, 4, 5, 6, 7, 8, 9, 'c', 'd', [10, 11, 'e', 'f']]\n"
          ]
        }
      ]
    },
    {
      "cell_type": "code",
      "source": [
        "list5=[1,1,1,3,3,3,2,2,2,77,24,1,-7]"
      ],
      "metadata": {
        "id": "oLyXIEkEeWXZ"
      },
      "execution_count": 66,
      "outputs": []
    },
    {
      "cell_type": "code",
      "source": [
        "print(list5.count(1))\n",
        "print(list5.index(2))\n",
        "list5.remove(1)\n",
        "print(list5)\n",
        "print(min(list5))\n",
        "print(max(list5))\n",
        "list5.sort()\n",
        "print(list5)\n",
        "list5.reverse()\n",
        "print(list5)\n",
        "list5.clear()\n",
        "print(list5)"
      ],
      "metadata": {
        "colab": {
          "base_uri": "https://localhost:8080/"
        },
        "id": "Pg7BbijDehWL",
        "outputId": "ecb27fb1-5eea-400c-90c8-4de6f37c8d4b"
      },
      "execution_count": 67,
      "outputs": [
        {
          "output_type": "stream",
          "name": "stdout",
          "text": [
            "4\n",
            "6\n",
            "[1, 1, 3, 3, 3, 2, 2, 2, 77, 24, 1, -7]\n",
            "-7\n",
            "77\n",
            "[-7, 1, 1, 1, 2, 2, 2, 3, 3, 3, 24, 77]\n",
            "[77, 24, 3, 3, 3, 2, 2, 2, 1, 1, 1, -7]\n",
            "[]\n"
          ]
        }
      ]
    },
    {
      "cell_type": "code",
      "source": [
        "text=\"Hello World\"\n",
        "text_to_list=list(text)\n",
        "del text_to_list[5]\n",
        "print(text_to_list)"
      ],
      "metadata": {
        "colab": {
          "base_uri": "https://localhost:8080/"
        },
        "id": "nR0oJHUMeqzC",
        "outputId": "e1d11799-c43b-4468-fd0f-c7c6c9fa1b57"
      },
      "execution_count": 71,
      "outputs": [
        {
          "output_type": "stream",
          "name": "stdout",
          "text": [
            "['H', 'e', 'l', 'l', 'o', 'W', 'o', 'r', 'l', 'd']\n"
          ]
        }
      ]
    }
  ]
}