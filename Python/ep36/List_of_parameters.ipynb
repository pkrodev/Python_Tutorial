{
  "nbformat": 4,
  "nbformat_minor": 0,
  "metadata": {
    "colab": {
      "provenance": [],
      "authorship_tag": "ABX9TyPQfIX/+eNK499NVnaoj9II",
      "include_colab_link": true
    },
    "kernelspec": {
      "name": "python3",
      "display_name": "Python 3"
    },
    "language_info": {
      "name": "python"
    }
  },
  "cells": [
    {
      "cell_type": "markdown",
      "metadata": {
        "id": "view-in-github",
        "colab_type": "text"
      },
      "source": [
        "<a href=\"https://colab.research.google.com/github/pkrodev/Python_Tutorial/blob/main/Python/ep36/List_of_parameters.ipynb\" target=\"_parent\"><img src=\"https://colab.research.google.com/assets/colab-badge.svg\" alt=\"Open In Colab\"/></a>"
      ]
    },
    {
      "cell_type": "code",
      "execution_count": 1,
      "metadata": {
        "colab": {
          "base_uri": "https://localhost:8080/"
        },
        "id": "Wt5nCQg-EOlz",
        "outputId": "27b502e2-0d34-4320-e862-7460e47d4ed9"
      },
      "outputs": [
        {
          "output_type": "stream",
          "name": "stdout",
          "text": [
            "Episode 36\n"
          ]
        }
      ],
      "source": [
        "print(\"Episode 36\")"
      ]
    },
    {
      "cell_type": "code",
      "source": [
        "def fun1(arg1, arg2=\"World\"):\n",
        "  print(arg1, arg2)"
      ],
      "metadata": {
        "id": "D8_x2gyZEVc4"
      },
      "execution_count": 2,
      "outputs": []
    },
    {
      "cell_type": "code",
      "source": [
        "fun1(\"1\")\n",
        "fun1(\"1\",\"2\")"
      ],
      "metadata": {
        "colab": {
          "base_uri": "https://localhost:8080/"
        },
        "id": "pj5_FgqcEeKt",
        "outputId": "ac727e52-3cef-465c-ad95-cf0b9e81a636"
      },
      "execution_count": 4,
      "outputs": [
        {
          "output_type": "stream",
          "name": "stdout",
          "text": [
            "1 World\n",
            "1 2\n"
          ]
        }
      ]
    },
    {
      "cell_type": "code",
      "source": [
        "def fun2(arg1, arg2=\"World\", *args):\n",
        "  print(arg1, arg2, args, len(args))\n",
        "  for i in args:\n",
        "    print(i)"
      ],
      "metadata": {
        "id": "Xzny7bUEE6A2"
      },
      "execution_count": 20,
      "outputs": []
    },
    {
      "cell_type": "code",
      "source": [
        "fun2(\"Hello\")\n",
        "fun2(\"Hi\",\"Python\")\n",
        "fun2(\"Hi\",\"Python\",\"now\",\"I\",\"can\",\"give\",\"unlimited\",\"parameters\")"
      ],
      "metadata": {
        "colab": {
          "base_uri": "https://localhost:8080/"
        },
        "id": "hhJmkCZIFOQk",
        "outputId": "325aaccd-cce8-46b2-e353-332e798d3875"
      },
      "execution_count": 22,
      "outputs": [
        {
          "output_type": "stream",
          "name": "stdout",
          "text": [
            "Hello World () 0\n",
            "Hi Python () 0\n",
            "Hi Python ('now', 'I', 'can', 'give', 'unlimited', 'parameters') 6\n",
            "now\n",
            "I\n",
            "can\n",
            "give\n",
            "unlimited\n",
            "parameters\n"
          ]
        }
      ]
    },
    {
      "cell_type": "code",
      "source": [
        "def fun3(arg1, arg2=\"World\", *args, **kwargs):\n",
        "  print(arg1, arg2, args, kwargs)\n",
        "  for i in args:\n",
        "    print(i)\n",
        "  for i in kwargs.values():\n",
        "    print(i)"
      ],
      "metadata": {
        "id": "FSwDfpfiGirs"
      },
      "execution_count": 35,
      "outputs": []
    },
    {
      "cell_type": "code",
      "source": [
        "fun3(\"Hello\")\n",
        "fun3(\"Hi\",\"Python\")\n",
        "fun3(\"Hi\",\"Python\",\"now\",\"I\",\"can\",\"give\",\"unlimited\",\"parameters\")\n",
        "fun3(\"Hello\", \"Python\", newarg1=\"It's my newa argument no1\", newarg2=\"It's my newa argument no2\" )"
      ],
      "metadata": {
        "colab": {
          "base_uri": "https://localhost:8080/"
        },
        "id": "zacNN-4SG03O",
        "outputId": "a7e6d748-9b7c-46cc-be4c-d7c5aa0ce5de"
      },
      "execution_count": 36,
      "outputs": [
        {
          "output_type": "stream",
          "name": "stdout",
          "text": [
            "Hello World () {}\n",
            "Hi Python () {}\n",
            "Hi Python ('now', 'I', 'can', 'give', 'unlimited', 'parameters') {}\n",
            "now\n",
            "I\n",
            "can\n",
            "give\n",
            "unlimited\n",
            "parameters\n",
            "Hello Python () {'newarg1': \"It's my newa argument no1\", 'newarg2': \"It's my newa argument no2\"}\n",
            "It's my newa argument no1\n",
            "It's my newa argument no2\n"
          ]
        }
      ]
    }
  ]
}