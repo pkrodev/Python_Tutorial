{
  "nbformat": 4,
  "nbformat_minor": 0,
  "metadata": {
    "colab": {
      "provenance": [],
      "authorship_tag": "ABX9TyO33lj2HtD8XTI2aX+zLcKJ",
      "include_colab_link": true
    },
    "kernelspec": {
      "name": "python3",
      "display_name": "Python 3"
    },
    "language_info": {
      "name": "python"
    }
  },
  "cells": [
    {
      "cell_type": "markdown",
      "metadata": {
        "id": "view-in-github",
        "colab_type": "text"
      },
      "source": [
        "<a href=\"https://colab.research.google.com/github/pkrodev/Python_Tutorial/blob/main/Python/ep29/OOP5.ipynb\" target=\"_parent\"><img src=\"https://colab.research.google.com/assets/colab-badge.svg\" alt=\"Open In Colab\"/></a>"
      ]
    },
    {
      "cell_type": "code",
      "execution_count": null,
      "metadata": {
        "colab": {
          "base_uri": "https://localhost:8080/"
        },
        "id": "Nd5P4sDWMcCd",
        "outputId": "9b138ae3-555b-4872-b2b7-b3788d89b9db"
      },
      "outputs": [
        {
          "output_type": "stream",
          "name": "stdout",
          "text": [
            "Episode 29\n"
          ]
        }
      ],
      "source": [
        "print(\"Episode 29\")"
      ]
    },
    {
      "cell_type": "code",
      "source": [
        "class Test:\n",
        "  list1=[]\n",
        "  def add(self,x):\n",
        "    self.list1.append(x)\n",
        "  def subtract(self):\n",
        "    if len(self.list1)>0:\n",
        "     return self.list1.pop()\n",
        "    else:\n",
        "      return"
      ],
      "metadata": {
        "id": "ZJzl5KL6MgWO"
      },
      "execution_count": null,
      "outputs": []
    },
    {
      "cell_type": "code",
      "source": [
        "obj=Test()\n",
        "obj.add(5)\n",
        "obj.add(7)\n",
        "obj.add(9)\n",
        "obj.subtract()\n",
        "print(obj.list1)"
      ],
      "metadata": {
        "colab": {
          "base_uri": "https://localhost:8080/"
        },
        "id": "gtbcsW4tOEAM",
        "outputId": "b4b4d2c5-bcd4-4998-fd9a-5cf9fafab719"
      },
      "execution_count": null,
      "outputs": [
        {
          "output_type": "stream",
          "name": "stdout",
          "text": [
            "[5, 7]\n"
          ]
        }
      ]
    },
    {
      "cell_type": "code",
      "source": [
        "class Test2:\n",
        "  __list1=[] #if one _ it's just and info for other programmers\n",
        "  def add(self,x):\n",
        "    self.__list1.append(x)\n",
        "  def subtract(self):\n",
        "    if len(self.__list1)>0:\n",
        "     return self.__list1.pop()\n",
        "    else:\n",
        "      return"
      ],
      "metadata": {
        "id": "qDjyws7HPdp4"
      },
      "execution_count": null,
      "outputs": []
    },
    {
      "cell_type": "code",
      "source": [
        "obj2=Test2()\n",
        "obj2.add(5)\n",
        "obj2.add(7)\n",
        "obj2.add(9)\n",
        "obj2.subtract()\n",
        "print(obj2._Test2__list1)"
      ],
      "metadata": {
        "colab": {
          "base_uri": "https://localhost:8080/"
        },
        "id": "1GNZ9aD_PqvP",
        "outputId": "8d8ec229-6318-46dc-a818-ad7b758aa246"
      },
      "execution_count": null,
      "outputs": [
        {
          "output_type": "stream",
          "name": "stdout",
          "text": [
            "[5, 7, 5, 7, 5, 7]\n"
          ]
        }
      ]
    }
  ]
}