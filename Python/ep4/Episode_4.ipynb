{
  "nbformat": 4,
  "nbformat_minor": 0,
  "metadata": {
    "colab": {
      "provenance": [],
      "authorship_tag": "ABX9TyNKTZ+y3YEb0A7zj012Vjfg",
      "include_colab_link": true
    },
    "kernelspec": {
      "name": "python3",
      "display_name": "Python 3"
    },
    "language_info": {
      "name": "python"
    }
  },
  "cells": [
    {
      "cell_type": "markdown",
      "metadata": {
        "id": "view-in-github",
        "colab_type": "text"
      },
      "source": [
        "<a href=\"https://colab.research.google.com/github/pkrodev/Python_Tutorial/blob/main/Python/ep4/Episode_4.ipynb\" target=\"_parent\"><img src=\"https://colab.research.google.com/assets/colab-badge.svg\" alt=\"Open In Colab\"/></a>"
      ]
    },
    {
      "cell_type": "code",
      "execution_count": 15,
      "metadata": {
        "colab": {
          "base_uri": "https://localhost:8080/"
        },
        "id": "HDKiBxekZd8I",
        "outputId": "ea4cab18-37d3-4bca-83dd-535797501405"
      },
      "outputs": [
        {
          "output_type": "stream",
          "name": "stdout",
          "text": [
            "Episode 4\n"
          ]
        }
      ],
      "source": [
        "print(\"Episode 4\")"
      ]
    },
    {
      "cell_type": "code",
      "source": [
        "a = 10\n",
        "b = 20\n",
        "c = 30\n",
        "d = int(input('Type your number now: '))"
      ],
      "metadata": {
        "colab": {
          "base_uri": "https://localhost:8080/"
        },
        "id": "5dOheNbYZiaV",
        "outputId": "ff930cda-7515-47fe-9ed0-de7486740a10"
      },
      "execution_count": 20,
      "outputs": [
        {
          "name": "stdout",
          "output_type": "stream",
          "text": [
            "Type your number now: 10\n"
          ]
        }
      ]
    },
    {
      "cell_type": "code",
      "source": [
        "if d > c:\n",
        "  print (str(d) + \" is the highest number \")\n",
        "elif d > b and c>d :\n",
        "  print (str(d) + \" is higher than \" +str(b) + \" but smaller than \"+ str(c))\n",
        "elif d > a and d < b :\n",
        "  print (str(d)+ \" is higher than \" + str(a) + \" but smaller than \"+ str(c))\n",
        "else :\n",
        "  print(\"Your number is 10, 20 or 30\")"
      ],
      "metadata": {
        "colab": {
          "base_uri": "https://localhost:8080/"
        },
        "id": "hcw_7JtCZuRE",
        "outputId": "03c08fe8-e5c0-4587-a740-9abdc292a201"
      },
      "execution_count": 22,
      "outputs": [
        {
          "output_type": "stream",
          "name": "stdout",
          "text": [
            "Your number is 10, 20 or 30\n"
          ]
        }
      ]
    }
  ]
}