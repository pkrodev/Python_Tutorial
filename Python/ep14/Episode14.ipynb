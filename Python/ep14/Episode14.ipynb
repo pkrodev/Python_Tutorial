{
  "nbformat": 4,
  "nbformat_minor": 0,
  "metadata": {
    "colab": {
      "provenance": [],
      "authorship_tag": "ABX9TyMaplqiN0HDpagMqjL+uGd8",
      "include_colab_link": true
    },
    "kernelspec": {
      "name": "python3",
      "display_name": "Python 3"
    },
    "language_info": {
      "name": "python"
    }
  },
  "cells": [
    {
      "cell_type": "markdown",
      "metadata": {
        "id": "view-in-github",
        "colab_type": "text"
      },
      "source": [
        "<a href=\"https://colab.research.google.com/github/pkrodev/Python_Tutorial/blob/main/Python/ep14/Episode14.ipynb\" target=\"_parent\"><img src=\"https://colab.research.google.com/assets/colab-badge.svg\" alt=\"Open In Colab\"/></a>"
      ]
    },
    {
      "cell_type": "code",
      "execution_count": 8,
      "metadata": {
        "colab": {
          "base_uri": "https://localhost:8080/"
        },
        "id": "Xvuup_iC-pvu",
        "outputId": "45401674-d79b-4c5b-f733-1e1e5cc045d3"
      },
      "outputs": [
        {
          "output_type": "stream",
          "name": "stdout",
          "text": [
            "Episode 14\n"
          ]
        }
      ],
      "source": [
        "print(\"Episode 14\")"
      ]
    },
    {
      "cell_type": "code",
      "source": [
        "file1 = open(\"example.txt\",\"a\") #w+ to read and write but also clear file, a to write without clearing past content\n",
        "if file1.writable():\n",
        "  stringbytes=file1.write(input(\"Enter text: \")+\"\\n\")\n",
        "  print(stringbytes)\n",
        "file1.close()"
      ],
      "metadata": {
        "colab": {
          "base_uri": "https://localhost:8080/"
        },
        "id": "swj2AZMG_V6Z",
        "outputId": "b61bbeeb-9d60-4d08-a5a1-5200e5b2329b"
      },
      "execution_count": 20,
      "outputs": [
        {
          "output_type": "stream",
          "name": "stdout",
          "text": [
            "Enter text: sentence\n",
            "9\n"
          ]
        }
      ]
    },
    {
      "cell_type": "code",
      "source": [
        "file1 = open(\"example.txt\", \"r\")\n",
        "if file1.readable():\n",
        "  text=file1.read()\n",
        "  print(text)\n",
        "file1.close()"
      ],
      "metadata": {
        "colab": {
          "base_uri": "https://localhost:8080/"
        },
        "id": "brY5vslYAsmG",
        "outputId": "71e06893-f6dd-4769-dbc9-cefbdff5b73a"
      },
      "execution_count": 21,
      "outputs": [
        {
          "output_type": "stream",
          "name": "stdout",
          "text": [
            "    dog\n",
            "    cat\n",
            "    house\n",
            "    street\n",
            "    car\n",
            "    tree\n",
            "    book\n",
            "    chair\n",
            "    phone\n",
            "    lamp\n",
            "    computer\n",
            "    pencil\n",
            "    table\n",
            "    flower\n",
            "    window\n",
            "    door\n",
            "    cup\n",
            "    spoon\n",
            "    fork\n",
            "    knife\n",
            "    hat\n",
            "    sock\n",
            "    shoe\n",
            "    shirt\n",
            "    pants\n",
            "    dress\n",
            "    jacket\n",
            "    bag\n",
            "    wallet\n",
            "    watcha\n",
            "sentence\n",
            "\n"
          ]
        }
      ]
    },
    {
      "cell_type": "code",
      "source": [
        "file1 = open(\"example.txt\", \"r\")\n",
        "if file1.readable():\n",
        "  text=file1.readlines()\n",
        "  print(text)\n",
        "  for l in text:\n",
        "    print(l)\n",
        "file1.close()"
      ],
      "metadata": {
        "colab": {
          "base_uri": "https://localhost:8080/"
        },
        "id": "FljttJywCTcJ",
        "outputId": "5cf8a6ef-9a21-4aa1-8b55-d598c3d5e681"
      },
      "execution_count": 18,
      "outputs": [
        {
          "output_type": "stream",
          "name": "stdout",
          "text": [
            "['    dog\\n', '    cat\\n', '    house\\n', '    street\\n', '    car\\n', '    tree\\n', '    book\\n', '    chair\\n', '    phone\\n', '    lamp\\n', '    computer\\n', '    pencil\\n', '    table\\n', '    flower\\n', '    window\\n', '    door\\n', '    cup\\n', '    spoon\\n', '    fork\\n', '    knife\\n', '    hat\\n', '    sock\\n', '    shoe\\n', '    shirt\\n', '    pants\\n', '    dress\\n', '    jacket\\n', '    bag\\n', '    wallet\\n', '    watch']\n",
            "    dog\n",
            "\n",
            "    cat\n",
            "\n",
            "    house\n",
            "\n",
            "    street\n",
            "\n",
            "    car\n",
            "\n",
            "    tree\n",
            "\n",
            "    book\n",
            "\n",
            "    chair\n",
            "\n",
            "    phone\n",
            "\n",
            "    lamp\n",
            "\n",
            "    computer\n",
            "\n",
            "    pencil\n",
            "\n",
            "    table\n",
            "\n",
            "    flower\n",
            "\n",
            "    window\n",
            "\n",
            "    door\n",
            "\n",
            "    cup\n",
            "\n",
            "    spoon\n",
            "\n",
            "    fork\n",
            "\n",
            "    knife\n",
            "\n",
            "    hat\n",
            "\n",
            "    sock\n",
            "\n",
            "    shoe\n",
            "\n",
            "    shirt\n",
            "\n",
            "    pants\n",
            "\n",
            "    dress\n",
            "\n",
            "    jacket\n",
            "\n",
            "    bag\n",
            "\n",
            "    wallet\n",
            "\n",
            "    watch\n"
          ]
        }
      ]
    }
  ]
}