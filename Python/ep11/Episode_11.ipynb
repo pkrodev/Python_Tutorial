{
  "nbformat": 4,
  "nbformat_minor": 0,
  "metadata": {
    "colab": {
      "provenance": [],
      "authorship_tag": "ABX9TyMHEQ8w3dxcYrLn2Y0bRkN2",
      "include_colab_link": true
    },
    "kernelspec": {
      "name": "python3",
      "display_name": "Python 3"
    },
    "language_info": {
      "name": "python"
    }
  },
  "cells": [
    {
      "cell_type": "markdown",
      "metadata": {
        "id": "view-in-github",
        "colab_type": "text"
      },
      "source": [
        "<a href=\"https://colab.research.google.com/github/pkrodev/Python_Tutorial/blob/main/Python/ep11/Episode_11.ipynb\" target=\"_parent\"><img src=\"https://colab.research.google.com/assets/colab-badge.svg\" alt=\"Open In Colab\"/></a>"
      ]
    },
    {
      "cell_type": "code",
      "source": [
        "import random\n",
        "from math import pi\n",
        "from math import sqrt\n"
      ],
      "metadata": {
        "id": "LnZlDumO0vUa"
      },
      "execution_count": 1,
      "outputs": []
    },
    {
      "cell_type": "code",
      "execution_count": 2,
      "metadata": {
        "colab": {
          "base_uri": "https://localhost:8080/"
        },
        "id": "rh4UEUrn0TWs",
        "outputId": "32e004d0-0c67-4462-ac8e-42dbbc2974be"
      },
      "outputs": [
        {
          "output_type": "stream",
          "name": "stdout",
          "text": [
            "Episode 11\n"
          ]
        }
      ],
      "source": [
        "print(\"Episode 11\")"
      ]
    },
    {
      "cell_type": "code",
      "source": [
        "print(random.randint(1,10))\n",
        "print(pi)\n",
        "print(int(sqrt(16)))"
      ],
      "metadata": {
        "colab": {
          "base_uri": "https://localhost:8080/"
        },
        "id": "Kl798naM09bi",
        "outputId": "6c3e4367-71b4-4959-96b8-992d758f0c52"
      },
      "execution_count": 4,
      "outputs": [
        {
          "output_type": "stream",
          "name": "stdout",
          "text": [
            "7\n",
            "3.141592653589793\n",
            "4\n"
          ]
        }
      ]
    }
  ]
}