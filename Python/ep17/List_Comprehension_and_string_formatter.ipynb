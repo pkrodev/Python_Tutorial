{
  "nbformat": 4,
  "nbformat_minor": 0,
  "metadata": {
    "colab": {
      "provenance": [],
      "authorship_tag": "ABX9TyO1w8yUd20m9dB2dS3cjA6k",
      "include_colab_link": true
    },
    "kernelspec": {
      "name": "python3",
      "display_name": "Python 3"
    },
    "language_info": {
      "name": "python"
    }
  },
  "cells": [
    {
      "cell_type": "markdown",
      "metadata": {
        "id": "view-in-github",
        "colab_type": "text"
      },
      "source": [
        "<a href=\"https://colab.research.google.com/github/pkrodev/Python_Tutorial/blob/main/Python/ep17/List_Comprehension_and_string_formatter.ipynb\" target=\"_parent\"><img src=\"https://colab.research.google.com/assets/colab-badge.svg\" alt=\"Open In Colab\"/></a>"
      ]
    },
    {
      "cell_type": "code",
      "execution_count": 2,
      "metadata": {
        "colab": {
          "base_uri": "https://localhost:8080/"
        },
        "id": "6r1P0U5ivLzm",
        "outputId": "598a5aa9-c6c6-4f04-b71d-c56df8992a0c"
      },
      "outputs": [
        {
          "output_type": "stream",
          "name": "stdout",
          "text": [
            "Episode 17\n"
          ]
        }
      ],
      "source": [
        "print(\"Episode 17\")"
      ]
    },
    {
      "cell_type": "code",
      "source": [
        "list1 = list(range(10))"
      ],
      "metadata": {
        "id": "sGRQwPLiwuDI"
      },
      "execution_count": 1,
      "outputs": []
    },
    {
      "cell_type": "code",
      "source": [
        "newlist=[l*2 for l in list1]\n",
        "newestlist=[l*2 for l in list1 if l%2==0 ]\n",
        "print(list1)\n",
        "print(newlist)\n",
        "print(newestlist)"
      ],
      "metadata": {
        "colab": {
          "base_uri": "https://localhost:8080/"
        },
        "id": "pYeBJSBKwzqe",
        "outputId": "63c4c16d-893e-4411-b1eb-d1c49cd4daa2"
      },
      "execution_count": 4,
      "outputs": [
        {
          "output_type": "stream",
          "name": "stdout",
          "text": [
            "[0, 1, 2, 3, 4, 5, 6, 7, 8, 9]\n",
            "[0, 2, 4, 6, 8, 10, 12, 14, 16, 18]\n",
            "[0, 4, 8, 12, 16]\n"
          ]
        }
      ]
    },
    {
      "cell_type": "code",
      "source": [
        "args=[\"Andrew\",30]\n",
        "text = \"Hi, my name is {0} and I'm {1} years old\".format(args[0], args[1])\n",
        "print(text)"
      ],
      "metadata": {
        "colab": {
          "base_uri": "https://localhost:8080/"
        },
        "id": "rZqW0kLyxEHK",
        "outputId": "3787a688-56f4-4bef-d495-6c55a33efc9a"
      },
      "execution_count": 6,
      "outputs": [
        {
          "output_type": "stream",
          "name": "stdout",
          "text": [
            "Hi, my name is Andrew and I'm 30 years old\n"
          ]
        }
      ]
    },
    {
      "cell_type": "code",
      "source": [],
      "metadata": {
        "id": "YxT0AS3W1ibN"
      },
      "execution_count": null,
      "outputs": []
    }
  ]
}