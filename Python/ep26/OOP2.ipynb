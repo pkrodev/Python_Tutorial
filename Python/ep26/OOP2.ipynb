{
  "nbformat": 4,
  "nbformat_minor": 0,
  "metadata": {
    "colab": {
      "provenance": [],
      "authorship_tag": "ABX9TyNyzgEClppwZQywccucZ/a4",
      "include_colab_link": true
    },
    "kernelspec": {
      "name": "python3",
      "display_name": "Python 3"
    },
    "language_info": {
      "name": "python"
    }
  },
  "cells": [
    {
      "cell_type": "markdown",
      "metadata": {
        "id": "view-in-github",
        "colab_type": "text"
      },
      "source": [
        "<a href=\"https://colab.research.google.com/github/pkrodev/Python_Tutorial/blob/main/Python/ep26/OOP2.ipynb\" target=\"_parent\"><img src=\"https://colab.research.google.com/assets/colab-badge.svg\" alt=\"Open In Colab\"/></a>"
      ]
    },
    {
      "cell_type": "code",
      "execution_count": 1,
      "metadata": {
        "colab": {
          "base_uri": "https://localhost:8080/"
        },
        "id": "t68W-bfoi7k-",
        "outputId": "1b97ee0c-040a-4fa0-dad3-5606cd74bdfe"
      },
      "outputs": [
        {
          "output_type": "stream",
          "name": "stdout",
          "text": [
            "Episode 26\n"
          ]
        }
      ],
      "source": [
        "print(\"Episode 26\")"
      ]
    },
    {
      "cell_type": "code",
      "source": [
        "class Animal:\n",
        "  def __init__(self, name, age):\n",
        "    self.name=name\n",
        "    self.age=age\n",
        "\n",
        "class Dog(Animal):\n",
        "  def voice(self):\n",
        "    print(\"Woof\")\n",
        "\n",
        "class Wolf(Dog):\n",
        "  def getVoice(self):\n",
        "    print(\"I'm a wolf\")\n",
        "    super().voice()\n"
      ],
      "metadata": {
        "id": "5FjXlvfekYtd"
      },
      "execution_count": 5,
      "outputs": []
    },
    {
      "cell_type": "code",
      "source": [
        "wolf = Wolf(\"Ruby\", 25)\n",
        "wolf.getVoice()"
      ],
      "metadata": {
        "colab": {
          "base_uri": "https://localhost:8080/"
        },
        "id": "fRZYGjTFmlyO",
        "outputId": "218acdd3-0c82-417e-99df-b8473950bd69"
      },
      "execution_count": 6,
      "outputs": [
        {
          "output_type": "stream",
          "name": "stdout",
          "text": [
            "I'm a wolf\n",
            "Woof\n"
          ]
        }
      ]
    }
  ]
}