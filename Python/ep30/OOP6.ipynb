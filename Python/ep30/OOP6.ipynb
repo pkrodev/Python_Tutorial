{
  "nbformat": 4,
  "nbformat_minor": 0,
  "metadata": {
    "colab": {
      "provenance": [],
      "authorship_tag": "ABX9TyO/uiVGy1TEyqp0xnBMUc4t",
      "include_colab_link": true
    },
    "kernelspec": {
      "name": "python3",
      "display_name": "Python 3"
    },
    "language_info": {
      "name": "python"
    }
  },
  "cells": [
    {
      "cell_type": "markdown",
      "metadata": {
        "id": "view-in-github",
        "colab_type": "text"
      },
      "source": [
        "<a href=\"https://colab.research.google.com/github/pkrodev/Python_Tutorial/blob/main/Python/ep30/OOP6.ipynb\" target=\"_parent\"><img src=\"https://colab.research.google.com/assets/colab-badge.svg\" alt=\"Open In Colab\"/></a>"
      ]
    },
    {
      "cell_type": "code",
      "execution_count": 1,
      "metadata": {
        "colab": {
          "base_uri": "https://localhost:8080/"
        },
        "id": "1kZwH9tsSb27",
        "outputId": "8faef1c5-3923-4e92-b50b-69aadc4cb7c0"
      },
      "outputs": [
        {
          "output_type": "stream",
          "name": "stdout",
          "text": [
            "Episode 30\n"
          ]
        }
      ],
      "source": [
        "print(\"Episode 30\")"
      ]
    },
    {
      "cell_type": "code",
      "source": [
        "class Human:\n",
        "  def __init__(self,name):\n",
        "    self.name=name\n",
        "  def introduce(self):\n",
        "    print(\"My name is \"+ self.name)\n",
        "  @classmethod\n",
        "  def new_human(cls, name):\n",
        "    return cls(name)\n",
        "  @staticmethod\n",
        "  def say_hello(arg):\n",
        "    print(\"Hi \"+ arg)"
      ],
      "metadata": {
        "id": "Z8u1-tGKSg3k"
      },
      "execution_count": 2,
      "outputs": []
    },
    {
      "cell_type": "code",
      "source": [
        "hu1=Human(\"Andrew\")\n",
        "hu2=Human.new_human(\"Tristan\")\n",
        "hu2.introduce()\n",
        "hu1.introduce()\n",
        "Human.say_hello(\"Bobby\")"
      ],
      "metadata": {
        "colab": {
          "base_uri": "https://localhost:8080/"
        },
        "id": "UCH4rtn7UA7X",
        "outputId": "18b7cb75-1b74-4f76-a249-8ecf541a398f"
      },
      "execution_count": 7,
      "outputs": [
        {
          "output_type": "stream",
          "name": "stdout",
          "text": [
            "My name is Tristan\n",
            "My name is Andrew\n",
            "Hi Bobby\n"
          ]
        }
      ]
    }
  ]
}