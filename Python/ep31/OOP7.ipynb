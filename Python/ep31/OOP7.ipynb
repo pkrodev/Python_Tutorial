{
  "nbformat": 4,
  "nbformat_minor": 0,
  "metadata": {
    "colab": {
      "provenance": [],
      "authorship_tag": "ABX9TyNdTJq7z/XsB6vTqY12i3sd",
      "include_colab_link": true
    },
    "kernelspec": {
      "name": "python3",
      "display_name": "Python 3"
    },
    "language_info": {
      "name": "python"
    }
  },
  "cells": [
    {
      "cell_type": "markdown",
      "metadata": {
        "id": "view-in-github",
        "colab_type": "text"
      },
      "source": [
        "<a href=\"https://colab.research.google.com/github/pkrodev/Python_Tutorial/blob/main/Python/ep31/OOP7.ipynb\" target=\"_parent\"><img src=\"https://colab.research.google.com/assets/colab-badge.svg\" alt=\"Open In Colab\"/></a>"
      ]
    },
    {
      "cell_type": "code",
      "execution_count": 1,
      "metadata": {
        "colab": {
          "base_uri": "https://localhost:8080/"
        },
        "id": "unUfmeFpW9pp",
        "outputId": "b55bb3bc-852b-448d-8327-18815856cbf5"
      },
      "outputs": [
        {
          "output_type": "stream",
          "name": "stdout",
          "text": [
            "Episode 31\n"
          ]
        }
      ],
      "source": [
        "print(\"Episode 31\")"
      ]
    },
    {
      "cell_type": "code",
      "source": [
        "class AccountBalance:\n",
        "  __balance=0\n",
        "  def __init__(self) -> None:\n",
        "    pass\n",
        "  @property\n",
        "  def balance(self):\n",
        "    return self.__balance\n",
        "  @balance.getter\n",
        "  def balance(self):\n",
        "    return \"Your balance equals \" + str(self.__balance)+ \" $\"\n",
        "\n",
        "  @balance.setter\n",
        "  def balance(self,value):\n",
        "    self.__balance+=value"
      ],
      "metadata": {
        "id": "eUecAF2tYATQ"
      },
      "execution_count": 18,
      "outputs": []
    },
    {
      "cell_type": "code",
      "source": [
        "account=AccountBalance()\n",
        "print(account.balance)\n",
        "account.balance=20\n",
        "print(account.balance)"
      ],
      "metadata": {
        "colab": {
          "base_uri": "https://localhost:8080/"
        },
        "id": "Ut_ZRvRUZjvb",
        "outputId": "077d0ec7-a04f-4585-88d0-87093242ef4d"
      },
      "execution_count": 19,
      "outputs": [
        {
          "output_type": "stream",
          "name": "stdout",
          "text": [
            "Your balance equals 0 $\n",
            "Your balance equals 20 $\n"
          ]
        }
      ]
    }
  ]
}