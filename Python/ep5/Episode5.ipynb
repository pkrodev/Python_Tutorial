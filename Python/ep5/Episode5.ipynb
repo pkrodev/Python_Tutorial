{
  "nbformat": 4,
  "nbformat_minor": 0,
  "metadata": {
    "colab": {
      "provenance": [],
      "authorship_tag": "ABX9TyPt0oNwGXz6pwgM6sAYn9EZ",
      "include_colab_link": true
    },
    "kernelspec": {
      "name": "python3",
      "display_name": "Python 3"
    },
    "language_info": {
      "name": "python"
    }
  },
  "cells": [
    {
      "cell_type": "markdown",
      "metadata": {
        "id": "view-in-github",
        "colab_type": "text"
      },
      "source": [
        "<a href=\"https://colab.research.google.com/github/pkrodev/Python_Tutorial/blob/main/Python/ep5/Episode5.ipynb\" target=\"_parent\"><img src=\"https://colab.research.google.com/assets/colab-badge.svg\" alt=\"Open In Colab\"/></a>"
      ]
    },
    {
      "cell_type": "code",
      "execution_count": 1,
      "metadata": {
        "colab": {
          "base_uri": "https://localhost:8080/"
        },
        "id": "Q8wAXsu-BIbw",
        "outputId": "ad09ee4c-981b-4573-c365-581471fa3e62"
      },
      "outputs": [
        {
          "output_type": "stream",
          "name": "stdout",
          "text": [
            "Episode 5\n"
          ]
        }
      ],
      "source": [
        "print(\"Episode 5\")"
      ]
    },
    {
      "cell_type": "code",
      "source": [
        "i=10\n",
        "\n",
        "while i>0:\n",
        "  print(i)\n",
        "  i-=1\n",
        "print(\"Stop\")"
      ],
      "metadata": {
        "colab": {
          "base_uri": "https://localhost:8080/"
        },
        "id": "ArSGgjdlCcwt",
        "outputId": "5cc78915-a582-4706-f49d-7207effa213f"
      },
      "execution_count": 7,
      "outputs": [
        {
          "output_type": "stream",
          "name": "stdout",
          "text": [
            "10\n",
            "9\n",
            "8\n",
            "7\n",
            "6\n",
            "5\n",
            "4\n",
            "3\n",
            "2\n",
            "1\n",
            "Stop\n"
          ]
        }
      ]
    },
    {
      "cell_type": "code",
      "source": [
        "i = 0\n",
        "while True:\n",
        "    if i % 5 == 0:\n",
        "        i += 1\n",
        "        continue\n",
        "    else:\n",
        "        print(str(i) + '\\n')\n",
        "        i += 1\n",
        "    if i == 100:\n",
        "        break\n"
      ],
      "metadata": {
        "colab": {
          "base_uri": "https://localhost:8080/"
        },
        "id": "9A-WxxBJRhu4",
        "outputId": "72913120-9407-483c-f182-80a3916819cc"
      },
      "execution_count": 24,
      "outputs": [
        {
          "output_type": "stream",
          "name": "stdout",
          "text": [
            "1\n",
            "\n",
            "2\n",
            "\n",
            "3\n",
            "\n",
            "4\n",
            "\n",
            "6\n",
            "\n",
            "7\n",
            "\n",
            "8\n",
            "\n",
            "9\n",
            "\n",
            "11\n",
            "\n",
            "12\n",
            "\n",
            "13\n",
            "\n",
            "14\n",
            "\n",
            "16\n",
            "\n",
            "17\n",
            "\n",
            "18\n",
            "\n",
            "19\n",
            "\n",
            "21\n",
            "\n",
            "22\n",
            "\n",
            "23\n",
            "\n",
            "24\n",
            "\n",
            "26\n",
            "\n",
            "27\n",
            "\n",
            "28\n",
            "\n",
            "29\n",
            "\n",
            "31\n",
            "\n",
            "32\n",
            "\n",
            "33\n",
            "\n",
            "34\n",
            "\n",
            "36\n",
            "\n",
            "37\n",
            "\n",
            "38\n",
            "\n",
            "39\n",
            "\n",
            "41\n",
            "\n",
            "42\n",
            "\n",
            "43\n",
            "\n",
            "44\n",
            "\n",
            "46\n",
            "\n",
            "47\n",
            "\n",
            "48\n",
            "\n",
            "49\n",
            "\n",
            "51\n",
            "\n",
            "52\n",
            "\n",
            "53\n",
            "\n",
            "54\n",
            "\n",
            "56\n",
            "\n",
            "57\n",
            "\n",
            "58\n",
            "\n",
            "59\n",
            "\n",
            "61\n",
            "\n",
            "62\n",
            "\n",
            "63\n",
            "\n",
            "64\n",
            "\n",
            "66\n",
            "\n",
            "67\n",
            "\n",
            "68\n",
            "\n",
            "69\n",
            "\n",
            "71\n",
            "\n",
            "72\n",
            "\n",
            "73\n",
            "\n",
            "74\n",
            "\n",
            "76\n",
            "\n",
            "77\n",
            "\n",
            "78\n",
            "\n",
            "79\n",
            "\n",
            "81\n",
            "\n",
            "82\n",
            "\n",
            "83\n",
            "\n",
            "84\n",
            "\n",
            "86\n",
            "\n",
            "87\n",
            "\n",
            "88\n",
            "\n",
            "89\n",
            "\n",
            "91\n",
            "\n",
            "92\n",
            "\n",
            "93\n",
            "\n",
            "94\n",
            "\n",
            "96\n",
            "\n",
            "97\n",
            "\n",
            "98\n",
            "\n",
            "99\n",
            "\n"
          ]
        }
      ]
    }
  ]
}