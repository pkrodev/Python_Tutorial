{
  "nbformat": 4,
  "nbformat_minor": 0,
  "metadata": {
    "colab": {
      "provenance": [],
      "authorship_tag": "ABX9TyOaQ3xvVvr/6YxZBrXzYQgV",
      "include_colab_link": true
    },
    "kernelspec": {
      "name": "python3",
      "display_name": "Python 3"
    },
    "language_info": {
      "name": "python"
    }
  },
  "cells": [
    {
      "cell_type": "markdown",
      "metadata": {
        "id": "view-in-github",
        "colab_type": "text"
      },
      "source": [
        "<a href=\"https://colab.research.google.com/github/pkrodev/Python_Tutorial/blob/main/Python/ep25/OOP1.ipynb\" target=\"_parent\"><img src=\"https://colab.research.google.com/assets/colab-badge.svg\" alt=\"Open In Colab\"/></a>"
      ]
    },
    {
      "cell_type": "code",
      "execution_count": 1,
      "metadata": {
        "colab": {
          "base_uri": "https://localhost:8080/"
        },
        "id": "VucVtR12GaL4",
        "outputId": "45c51e88-914a-40e8-dc26-c00ba63cacad"
      },
      "outputs": [
        {
          "output_type": "stream",
          "name": "stdout",
          "text": [
            "Episode 25\n"
          ]
        }
      ],
      "source": [
        "print(\"Episode 25\")"
      ]
    },
    {
      "cell_type": "code",
      "source": [
        "class Human:\n",
        "  def __init__(self, name, age):\n",
        "    self.name=name\n",
        "    self.age=age\n",
        "\n",
        "  def helloWorld(self, hello=\"Hello\"):\n",
        "    return hello+\" my name is \"+ self.name +\". And I'm \"+ str(self.age)+\"years old.\""
      ],
      "metadata": {
        "id": "PyILDHg2dlnn"
      },
      "execution_count": 2,
      "outputs": []
    },
    {
      "cell_type": "code",
      "source": [
        "object1=Human(\"Peter\", \"26\")\n",
        "print(object1.helloWorld(\"Hi\"))\n",
        "object2=Human(\"Andrew\",30)\n",
        "print(object2.name)\n",
        "object2.helloWorld()"
      ],
      "metadata": {
        "colab": {
          "base_uri": "https://localhost:8080/",
          "height": 71
        },
        "id": "9kFzu0Xres5v",
        "outputId": "6cdde01d-0bc6-475c-ca69-bf6be63b65c3"
      },
      "execution_count": 9,
      "outputs": [
        {
          "output_type": "stream",
          "name": "stdout",
          "text": [
            "Hi my name is Peter. And I'm 26years old.\n",
            "Andrew\n"
          ]
        },
        {
          "output_type": "execute_result",
          "data": {
            "text/plain": [
              "\"Hello my name is Andrew. And I'm 30years old.\""
            ],
            "application/vnd.google.colaboratory.intrinsic+json": {
              "type": "string"
            }
          },
          "metadata": {},
          "execution_count": 9
        }
      ]
    }
  ]
}