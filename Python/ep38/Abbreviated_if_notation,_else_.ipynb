{
  "nbformat": 4,
  "nbformat_minor": 0,
  "metadata": {
    "colab": {
      "provenance": [],
      "authorship_tag": "ABX9TyPQXy2VpfOX8ViP4qr+bRtm",
      "include_colab_link": true
    },
    "kernelspec": {
      "name": "python3",
      "display_name": "Python 3"
    },
    "language_info": {
      "name": "python"
    }
  },
  "cells": [
    {
      "cell_type": "markdown",
      "metadata": {
        "id": "view-in-github",
        "colab_type": "text"
      },
      "source": [
        "<a href=\"https://colab.research.google.com/github/pkrodev/Python_Tutorial/blob/main/Python/ep38/Abbreviated_if_notation%2C_else_.ipynb\" target=\"_parent\"><img src=\"https://colab.research.google.com/assets/colab-badge.svg\" alt=\"Open In Colab\"/></a>"
      ]
    },
    {
      "cell_type": "code",
      "source": [
        "print(\"Episode 38\")"
      ],
      "metadata": {
        "colab": {
          "base_uri": "https://localhost:8080/"
        },
        "id": "FwQUQNboNSUb",
        "outputId": "96722795-f387-416a-a337-0d53d5c9e5dd"
      },
      "execution_count": 1,
      "outputs": [
        {
          "output_type": "stream",
          "name": "stdout",
          "text": [
            "Episode 38\n"
          ]
        }
      ]
    },
    {
      "cell_type": "code",
      "source": [
        "print(\"True\") if 5>4 else print(\"False\")"
      ],
      "metadata": {
        "colab": {
          "base_uri": "https://localhost:8080/"
        },
        "id": "EKj5xZzaNWhT",
        "outputId": "3c0b2df9-0703-4f05-f2a6-adc277d920a8"
      },
      "execution_count": 2,
      "outputs": [
        {
          "output_type": "stream",
          "name": "stdout",
          "text": [
            "True\n"
          ]
        }
      ]
    },
    {
      "cell_type": "code",
      "source": [
        "a=\"even\" if 4%2==0 else \"odd\"\n",
        "print(a)"
      ],
      "metadata": {
        "colab": {
          "base_uri": "https://localhost:8080/"
        },
        "id": "VE1SvRRGNnNp",
        "outputId": "7fc40826-0e5e-40a8-8f69-bbf22b018f0e"
      },
      "execution_count": 4,
      "outputs": [
        {
          "output_type": "stream",
          "name": "stdout",
          "text": [
            "even\n"
          ]
        }
      ]
    },
    {
      "cell_type": "code",
      "source": [
        "a=\"even\" if 5%2==0 else \"odd\"\n",
        "print(a)"
      ],
      "metadata": {
        "colab": {
          "base_uri": "https://localhost:8080/"
        },
        "id": "wU5fBKxHOZ4d",
        "outputId": "6b00a34c-e5a8-4776-913a-9dbbff04faf9"
      },
      "execution_count": 5,
      "outputs": [
        {
          "output_type": "stream",
          "name": "stdout",
          "text": [
            "odd\n"
          ]
        }
      ]
    },
    {
      "cell_type": "code",
      "source": [
        "for i in range(10):\n",
        "  if i>5:\n",
        "    continue\n",
        "else:\n",
        "  print(\"End\")"
      ],
      "metadata": {
        "colab": {
          "base_uri": "https://localhost:8080/"
        },
        "id": "UbgXHj2UOcrS",
        "outputId": "da72920d-c6d4-4f49-f463-d5cb8da865a9"
      },
      "execution_count": 6,
      "outputs": [
        {
          "output_type": "stream",
          "name": "stdout",
          "text": [
            "End\n"
          ]
        }
      ]
    },
    {
      "cell_type": "code",
      "source": [
        "for i in range(10):\n",
        "  if i>5:\n",
        "    continue\n",
        "  else:\n",
        "    print(\"End\")"
      ],
      "metadata": {
        "colab": {
          "base_uri": "https://localhost:8080/"
        },
        "id": "JZHC7WgVQPTg",
        "outputId": "a0cb29f8-09f0-4f40-c793-4b0d69d0c6bd"
      },
      "execution_count": 7,
      "outputs": [
        {
          "output_type": "stream",
          "name": "stdout",
          "text": [
            "End\n",
            "End\n",
            "End\n",
            "End\n",
            "End\n",
            "End\n"
          ]
        }
      ]
    },
    {
      "cell_type": "code",
      "source": [
        "try:\n",
        "  a=5/1\n",
        "except ZeroDivisionError:\n",
        "  print(\"Error\")\n",
        "else:\n",
        "  print(\"End\")\n",
        "finally:\n",
        "  print(\"Always\")"
      ],
      "metadata": {
        "colab": {
          "base_uri": "https://localhost:8080/"
        },
        "id": "kzjflYgFR6HT",
        "outputId": "14dc8a8a-e03c-4b8d-a325-d40a9bb03d18"
      },
      "execution_count": 9,
      "outputs": [
        {
          "output_type": "stream",
          "name": "stdout",
          "text": [
            "End\n",
            "Always\n"
          ]
        }
      ]
    },
    {
      "cell_type": "code",
      "source": [
        "try:\n",
        "  a=5/0\n",
        "except ZeroDivisionError:\n",
        "  print(\"Error\")\n",
        "else:\n",
        "  print(\"End\")\n",
        "finally:\n",
        "  print(\"Always\")"
      ],
      "metadata": {
        "colab": {
          "base_uri": "https://localhost:8080/"
        },
        "id": "8imsIQ_FSz0b",
        "outputId": "f22e5f0b-44a8-4cd1-f831-e5fdb6f32938"
      },
      "execution_count": 10,
      "outputs": [
        {
          "output_type": "stream",
          "name": "stdout",
          "text": [
            "Error\n",
            "Always\n"
          ]
        }
      ]
    }
  ]
}